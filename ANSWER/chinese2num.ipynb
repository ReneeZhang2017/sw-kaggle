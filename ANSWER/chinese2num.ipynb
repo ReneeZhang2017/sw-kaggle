{
 "cells": [
  {
   "cell_type": "code",
   "execution_count": 1,
   "metadata": {},
   "outputs": [],
   "source": [
    "# 0--9 的字典表示\n",
    "MARK_NUM = {\n",
    "    '零': 0,\n",
    "    '一': 1,\n",
    "    '二': 2,\n",
    "    '三': 3,\n",
    "    '四': 4,\n",
    "    '五': 5,\n",
    "    '六': 6,\n",
    "    '七': 7,\n",
    "    '八': 8,\n",
    "    '九': 9\n",
    "}\n",
    "\n",
    "# 进制单位\n",
    "MARK_UNIT = {\n",
    "    '十': 10,\n",
    "    '百': 1e2,\n",
    "    '千': 1e3,\n",
    "    '万': 1e4,\n",
    "    '亿': 1e8,\n",
    "}"
   ]
  },
  {
   "cell_type": "code",
   "execution_count": 2,
   "metadata": {},
   "outputs": [],
   "source": [
    "def str2num(str):\n",
    "    result = 0\n",
    "    cur_unit = 1\n",
    "    for i in reversed(str):\n",
    "        if i in MARK_NUM.keys():\n",
    "            result += (MARK_NUM[i] * cur_unit)\n",
    "            # print(cur_unit)\n",
    "        else:\n",
    "            if i == '万' or i == '亿':\n",
    "                cur_unit = MARK_UNIT[i]\n",
    "                continue\n",
    "            if MARK_UNIT[\"亿\"] <= cur_unit:\n",
    "                cur_unit = MARK_UNIT[i] * MARK_UNIT[\"亿\"]\n",
    "                continue\n",
    "            if MARK_UNIT[\"万\"] <= cur_unit < 1000 * MARK_UNIT[\"万\"]:\n",
    "                # 万单位已经出现\n",
    "                cur_unit = MARK_UNIT[i] * MARK_UNIT[\"万\"]\n",
    "                continue\n",
    "            cur_unit = MARK_UNIT[i]\n",
    "    # 以十结尾的特殊情况\n",
    "    if str[0] == \"十\":\n",
    "        result += 1 * cur_unit\n",
    "    return result"
   ]
  },
  {
   "cell_type": "code",
   "execution_count": 4,
   "metadata": {},
   "outputs": [
    {
     "name": "stdout",
     "output_type": "stream",
     "text": [
      "五十八 --> 58\n",
      "一百二十三万四千五百六十七 --> 1234567\n",
      "三千二百一十万零二百一十五 --> 32100215\n",
      "一亿零九十万零七十六 --> 100900076\n",
      "十八万 --> 180000\n"
     ]
    }
   ],
   "source": [
    "str_list = [\"五十八\", \"一百二十三万四千五百六十七\", '三千二百一十万零二百一十五', '一亿零九十万零七十六', \"十八万\"]\n",
    "for i in str_list:\n",
    "    result = str2num(i)\n",
    "    print(i, \"--> %i\" % result)"
   ]
  },
  {
   "cell_type": "code",
   "execution_count": null,
   "metadata": {},
   "outputs": [],
   "source": []
  }
 ],
 "metadata": {
  "kernelspec": {
   "display_name": "Python 3",
   "language": "python",
   "name": "python3"
  },
  "language_info": {
   "codemirror_mode": {
    "name": "ipython",
    "version": 3
   },
   "file_extension": ".py",
   "mimetype": "text/x-python",
   "name": "python",
   "nbconvert_exporter": "python",
   "pygments_lexer": "ipython3",
   "version": "3.6.4"
  }
 },
 "nbformat": 4,
 "nbformat_minor": 2
}
