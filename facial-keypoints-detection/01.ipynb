{
 "cells": [
  {
   "cell_type": "code",
   "execution_count": 37,
   "metadata": {},
   "outputs": [],
   "source": [
    "import numpy as np\n",
    "import pandas as pd\n",
    "import tensorflow as tf\n",
    "from  sklearn.model_selection import train_test_split"
   ]
  },
  {
   "cell_type": "code",
   "execution_count": 146,
   "metadata": {},
   "outputs": [],
   "source": [
    "train_df = pd.read_csv(\"./datasets/training.csv\")\n",
    "test_df = pd.read_csv(\"./datasets/test.csv\")"
   ]
  },
  {
   "cell_type": "code",
   "execution_count": 199,
   "metadata": {},
   "outputs": [],
   "source": [
    "train_df = train_df.dropna(axis=0)"
   ]
  },
  {
   "cell_type": "code",
   "execution_count": 216,
   "metadata": {},
   "outputs": [],
   "source": [
    "X_train_df = train_df[\"Image\"].apply(lambda im: np.fromstring(im, sep=' '))\n",
    "y_train_df = train_df.drop([\"Image\"], axis=1)"
   ]
  },
  {
   "cell_type": "code",
   "execution_count": 217,
   "metadata": {},
   "outputs": [],
   "source": [
    "X_train_df = np.array([i for i in X_train_df])"
   ]
  },
  {
   "cell_type": "code",
   "execution_count": null,
   "metadata": {},
   "outputs": [],
   "source": [
    "test_df = test_df[\"Image\"].apply(lambda im: np.fromstring(im, sep=' '))\n",
    "test_df = np.array([i for i in test_df])"
   ]
  },
  {
   "cell_type": "code",
   "execution_count": 219,
   "metadata": {},
   "outputs": [],
   "source": [
    "X_train = X_train_df\n",
    "y_train = y_train_df.values"
   ]
  },
  {
   "cell_type": "code",
   "execution_count": null,
   "metadata": {},
   "outputs": [],
   "source": []
  },
  {
   "cell_type": "code",
   "execution_count": 223,
   "metadata": {},
   "outputs": [],
   "source": [
    "X_train, X_test ,y_train, y_test = train_test_split(X_train, y_train, test_size=0.1, \n",
    "                                                   random_state=42)"
   ]
  },
  {
   "cell_type": "code",
   "execution_count": 229,
   "metadata": {},
   "outputs": [
    {
     "data": {
      "text/plain": [
       "array([[68.5886094 , 32.99919317, 29.45230185, ..., 76.93577565,\n",
       "        53.66044602, 77.89258628],\n",
       "       [68.80073392, 34.85971108, 28.76514575, ..., 81.09763816,\n",
       "        51.8791103 , 81.54359092],\n",
       "       [66.02475   , 40.47675   , 31.50075   , ..., 73.995     ,\n",
       "        46.584     , 91.089     ],\n",
       "       ...,\n",
       "       [67.24939806, 35.8583301 , 29.76093204, ..., 66.26516505,\n",
       "        47.25530097, 84.17615534],\n",
       "       [69.7650219 , 38.73740146, 28.71170803, ..., 82.63427737,\n",
       "        47.55013139, 90.80934307],\n",
       "       [69.62626415, 32.21859623, 28.74656604, ..., 67.43184906,\n",
       "        51.00769811, 82.4069434 ]])"
      ]
     },
     "execution_count": 229,
     "metadata": {},
     "output_type": "execute_result"
    }
   ],
   "source": []
  },
  {
   "cell_type": "code",
   "execution_count": null,
   "metadata": {},
   "outputs": [],
   "source": []
  },
  {
   "cell_type": "code",
   "execution_count": null,
   "metadata": {},
   "outputs": [],
   "source": []
  },
  {
   "cell_type": "code",
   "execution_count": 254,
   "metadata": {},
   "outputs": [],
   "source": [
    "# Training Parameters\n",
    "learning_rate = 0.001\n",
    "num_steps = 500\n",
    "batch_size = 128\n",
    "\n",
    "# Network Parameters\n",
    "num_input = 96 * 96 # MNIST data input (img shape: 28*28)\n",
    "num_classes = 30 # MNIST total classes (0-9 digits)\n",
    "dropout = 0.25 # Dropout, probability to drop a unit\n"
   ]
  },
  {
   "cell_type": "code",
   "execution_count": 255,
   "metadata": {},
   "outputs": [],
   "source": [
    "def conv_net2(X,n_classes, dropout, reuse, is_training):\n",
    "    with tf.variable_scope(\"ConvNet\", reuse=reuse):\n",
    "#         X = tf.cast(X, tf.float32)\n",
    "        x = tf.reshape(X, shape=[-1, 96, 96, 1])\n",
    "        conv1 = tf.layers.conv2d(x, 1, 5, activation=tf.nn.relu)\n",
    "        conv1 = tf.layers.max_pooling2d(conv1, 2, 2)\n",
    "        \n",
    "        fc1 = tf.contrib.layers.flatten(conv1)\n",
    "        fc1 = tf.layers.dense(fc1, 100)\n",
    "        fc1 = tf.layers.dropout(fc1, rate=dropout, training=is_training)\n",
    "        \n",
    "        out = tf.layers.dense(fc1, 30)\n",
    "    \n",
    "    return out"
   ]
  },
  {
   "cell_type": "code",
   "execution_count": 256,
   "metadata": {},
   "outputs": [],
   "source": [
    "def model_fn(features, labels, mode):\n",
    "    logits_train = conv_net2(features, num_classes, dropout, reuse=False, is_training=True)\n",
    "    logits_test = conv_net2(features, num_classes, dropout, reuse=True, is_training=False)\n",
    "    \n",
    "#     pred_classes = tf.argmax(logits_test, axis=1)\n",
    "    pred_classes = logits_test\n",
    "#     pred_proba = tf.nn.softmax(logits_test)\n",
    "    \n",
    "    if mode == tf.estimator.ModeKeys.PREDICT:\n",
    "        return tf.estimator.EstimatorSpec(mode, predictions=pred_classes)\n",
    "    \n",
    "    loss_op = tf.reduce_mean(tf.pow(logits_train - labels, 2)) / (2 * batch_size)\n",
    "                                                                           \n",
    "    optimizer = tf.train.AdamOptimizer(learning_rate=learning_rate)\n",
    "    train_op = optimizer.minimize(loss_op, global_step=tf.train.get_global_step())\n",
    "    \n",
    "    acc_op = tf.metrics.accuracy(labels=labels, predictions=pred_classes)\n",
    "    \n",
    "    estim_specs = tf.estimator.EstimatorSpec(mode=mode,predictions=pred_classes, \n",
    "                                        loss=loss_op, train_op=train_op, \n",
    "                                        eval_metric_ops={\"accuracy\":acc_op})\n",
    "    return estim_specs"
   ]
  },
  {
   "cell_type": "code",
   "execution_count": 257,
   "metadata": {},
   "outputs": [
    {
     "name": "stdout",
     "output_type": "stream",
     "text": [
      "INFO:tensorflow:Using default config.\n",
      "WARNING:tensorflow:Using temporary folder as model directory: /var/folders/j0/mlln6qvj2kl42rr7mg80lsxc0000gn/T/tmpughpwr7r\n",
      "INFO:tensorflow:Using config: {'_model_dir': '/var/folders/j0/mlln6qvj2kl42rr7mg80lsxc0000gn/T/tmpughpwr7r', '_tf_random_seed': None, '_save_summary_steps': 100, '_save_checkpoints_steps': None, '_save_checkpoints_secs': 600, '_session_config': None, '_keep_checkpoint_max': 5, '_keep_checkpoint_every_n_hours': 10000, '_log_step_count_steps': 100, '_train_distribute': None, '_service': None, '_cluster_spec': <tensorflow.python.training.server_lib.ClusterSpec object at 0x1c4b275a20>, '_task_type': 'worker', '_task_id': 0, '_global_id_in_cluster': 0, '_master': '', '_evaluation_master': '', '_is_chief': True, '_num_ps_replicas': 0, '_num_worker_replicas': 1}\n",
      "INFO:tensorflow:Calling model_fn.\n",
      "INFO:tensorflow:Done calling model_fn.\n",
      "INFO:tensorflow:Create CheckpointSaverHook.\n",
      "INFO:tensorflow:Graph was finalized.\n",
      "INFO:tensorflow:Running local_init_op.\n",
      "INFO:tensorflow:Done running local_init_op.\n",
      "INFO:tensorflow:Saving checkpoints for 1 into /var/folders/j0/mlln6qvj2kl42rr7mg80lsxc0000gn/T/tmpughpwr7r/model.ckpt.\n",
      "INFO:tensorflow:loss = 10.283905838000965, step = 1\n",
      "INFO:tensorflow:global_step/sec: 4.29494\n",
      "INFO:tensorflow:loss = 1.7812919196743195, step = 101 (23.285 sec)\n",
      "INFO:tensorflow:global_step/sec: 4.39633\n",
      "INFO:tensorflow:loss = 0.83830680381953, step = 201 (22.746 sec)\n",
      "INFO:tensorflow:global_step/sec: 4.40673\n",
      "INFO:tensorflow:loss = 0.7170061172325949, step = 301 (22.692 sec)\n",
      "INFO:tensorflow:global_step/sec: 4.24101\n",
      "INFO:tensorflow:loss = 0.4962204188393246, step = 401 (23.580 sec)\n",
      "INFO:tensorflow:Saving checkpoints for 500 into /var/folders/j0/mlln6qvj2kl42rr7mg80lsxc0000gn/T/tmpughpwr7r/model.ckpt.\n",
      "INFO:tensorflow:Loss for final step: 0.7303038525215986.\n"
     ]
    },
    {
     "data": {
      "text/plain": [
       "<tensorflow.python.estimator.estimator.Estimator at 0x1c4b275898>"
      ]
     },
     "execution_count": 257,
     "metadata": {},
     "output_type": "execute_result"
    }
   ],
   "source": [
    "model = tf.estimator.Estimator(model_fn)\n",
    "input_fn = tf.estimator.inputs.numpy_input_fn(x=X_train,\n",
    "                                              y=y_train, \n",
    "                                              batch_size=batch_size, \n",
    "                                             num_epochs=None, shuffle=True)\n",
    "model.train(input_fn, steps=num_steps)"
   ]
  },
  {
   "cell_type": "code",
   "execution_count": 259,
   "metadata": {},
   "outputs": [
    {
     "name": "stdout",
     "output_type": "stream",
     "text": [
      "INFO:tensorflow:Calling model_fn.\n",
      "INFO:tensorflow:Done calling model_fn.\n",
      "INFO:tensorflow:Starting evaluation at 2018-05-30-13:25:32\n",
      "INFO:tensorflow:Graph was finalized.\n",
      "INFO:tensorflow:Restoring parameters from /var/folders/j0/mlln6qvj2kl42rr7mg80lsxc0000gn/T/tmpughpwr7r/model.ckpt-500\n",
      "INFO:tensorflow:Running local_init_op.\n",
      "INFO:tensorflow:Done running local_init_op.\n",
      "INFO:tensorflow:Finished evaluation at 2018-05-30-13:25:32\n",
      "INFO:tensorflow:Saving dict for global step 500: accuracy = 0.0, global_step = 500, loss = 1.983207\n"
     ]
    },
    {
     "data": {
      "text/plain": [
       "{'accuracy': 0.0, 'global_step': 500, 'loss': 1.983207}"
      ]
     },
     "execution_count": 259,
     "metadata": {},
     "output_type": "execute_result"
    }
   ],
   "source": [
    "input_fn = tf.estimator.inputs.numpy_input_fn(x=X_test, y=y_test, \n",
    "                                              batch_size=batch_size, shuffle=False)\n",
    "model.evaluate(input_fn)"
   ]
  },
  {
   "cell_type": "code",
   "execution_count": 260,
   "metadata": {},
   "outputs": [],
   "source": []
  },
  {
   "cell_type": "code",
   "execution_count": null,
   "metadata": {},
   "outputs": [],
   "source": []
  },
  {
   "cell_type": "code",
   "execution_count": 272,
   "metadata": {},
   "outputs": [],
   "source": []
  },
  {
   "cell_type": "code",
   "execution_count": 273,
   "metadata": {},
   "outputs": [],
   "source": []
  },
  {
   "cell_type": "code",
   "execution_count": 274,
   "metadata": {},
   "outputs": [
    {
     "name": "stdout",
     "output_type": "stream",
     "text": [
      "INFO:tensorflow:Calling model_fn.\n",
      "INFO:tensorflow:Done calling model_fn.\n",
      "INFO:tensorflow:Graph was finalized.\n",
      "INFO:tensorflow:Restoring parameters from /var/folders/j0/mlln6qvj2kl42rr7mg80lsxc0000gn/T/tmpughpwr7r/model.ckpt-500\n",
      "INFO:tensorflow:Running local_init_op.\n",
      "INFO:tensorflow:Done running local_init_op.\n"
     ]
    }
   ],
   "source": [
    "input_fn = tf.estimator.inputs.numpy_input_fn(x=test_df, shuffle=False)\n",
    "y_pred = np.array( list(model.predict(input_fn)))"
   ]
  },
  {
   "cell_type": "code",
   "execution_count": 333,
   "metadata": {},
   "outputs": [],
   "source": [
    "idtable = pd.read_csv(\"./datasets/IdLookupTable.csv\")"
   ]
  },
  {
   "cell_type": "code",
   "execution_count": 334,
   "metadata": {},
   "outputs": [],
   "source": [
    "cols = train_df.columns[:-1]"
   ]
  },
  {
   "cell_type": "code",
   "execution_count": 335,
   "metadata": {},
   "outputs": [],
   "source": [
    "values = []"
   ]
  },
  {
   "cell_type": "code",
   "execution_count": 336,
   "metadata": {},
   "outputs": [],
   "source": [
    "for index, row in idtable.iterrows():\n",
    "     values.append((\n",
    "        row['RowId'],\n",
    "        y_pred[row.ImageId - 1][np.where(cols == row.FeatureName)[0][0]],\n",
    "        ))"
   ]
  },
  {
   "cell_type": "code",
   "execution_count": 337,
   "metadata": {},
   "outputs": [],
   "source": [
    "submission = pd.DataFrame(values, columns=('RowId', 'Location'))\n",
    "submission.to_csv('./submission.csv', index=False)"
   ]
  },
  {
   "cell_type": "code",
   "execution_count": null,
   "metadata": {},
   "outputs": [],
   "source": []
  }
 ],
 "metadata": {
  "kernelspec": {
   "display_name": "Python 3",
   "language": "python",
   "name": "python3"
  },
  "language_info": {
   "codemirror_mode": {
    "name": "ipython",
    "version": 3
   },
   "file_extension": ".py",
   "mimetype": "text/x-python",
   "name": "python",
   "nbconvert_exporter": "python",
   "pygments_lexer": "ipython3",
   "version": "3.6.4"
  }
 },
 "nbformat": 4,
 "nbformat_minor": 2
}
