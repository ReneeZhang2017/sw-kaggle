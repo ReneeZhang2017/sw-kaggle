{
 "cells": [
  {
   "cell_type": "code",
   "execution_count": 46,
   "metadata": {},
   "outputs": [],
   "source": [
    "import numpy as np\n",
    "def sigmoid(x):\n",
    "    return 1.0 / (1.0 + np.exp(-x))\n",
    "def sigmoid_derivative(output):\n",
    "    return output * (1 - output)"
   ]
  },
  {
   "cell_type": "code",
   "execution_count": 47,
   "metadata": {},
   "outputs": [],
   "source": [
    "# 整数与二进制转化\n",
    "int2binary = {}\n",
    "binary_dim = 8"
   ]
  },
  {
   "cell_type": "code",
   "execution_count": 48,
   "metadata": {},
   "outputs": [],
   "source": [
    "largest_number = pow(2, binary_dim)"
   ]
  },
  {
   "cell_type": "code",
   "execution_count": 49,
   "metadata": {},
   "outputs": [],
   "source": [
    "binary = np.unpackbits(np.arange(largest_number, dtype=np.uint8).reshape(-1, 1), axis=1)"
   ]
  },
  {
   "cell_type": "code",
   "execution_count": 50,
   "metadata": {},
   "outputs": [],
   "source": [
    "for i in range(largest_number):\n",
    "    int2binary[i] = binary[i]"
   ]
  },
  {
   "cell_type": "code",
   "execution_count": null,
   "metadata": {},
   "outputs": [],
   "source": []
  },
  {
   "cell_type": "code",
   "execution_count": 51,
   "metadata": {},
   "outputs": [],
   "source": [
    "# 网络结构\n",
    "n_input = 2\n",
    "hidden1 = 16\n",
    "n_output = 1\n",
    "learning_rate = 0.5"
   ]
  },
  {
   "cell_type": "code",
   "execution_count": 52,
   "metadata": {},
   "outputs": [],
   "source": [
    "# 初始化模型参数\n",
    "U = np.random.randn(n_input, hidden1)\n",
    "V = np.random.randn(hidden1, hidden1)\n",
    "W = np.random.randn(hidden1, n_output)"
   ]
  },
  {
   "cell_type": "code",
   "execution_count": 53,
   "metadata": {},
   "outputs": [],
   "source": [
    "dU = np.zeros_like(U)\n",
    "dV = np.zeros_like(V)\n",
    "dW = np.zeros_like(W)"
   ]
  },
  {
   "cell_type": "code",
   "execution_count": null,
   "metadata": {},
   "outputs": [],
   "source": []
  },
  {
   "cell_type": "code",
   "execution_count": 71,
   "metadata": {},
   "outputs": [
    {
     "name": "stdout",
     "output_type": "stream",
     "text": [
      "[[0 0]]\n",
      "[[0 0]]\n",
      "[[0 0]]\n",
      "[[0 0]]\n",
      "[[1 0]]\n",
      "[[1 1]]\n",
      "[[1 1]]\n",
      "[[1 1]]\n",
      "loss:0.09470051311147264\n",
      "Pred:[0 0 0 1 0 1 1 0]\n",
      "Ture:[0 0 0 1 0 1 1 0]\n",
      "15 + 7 = 22\n",
      "------------\n"
     ]
    }
   ],
   "source": [
    "# 训练次数\n",
    "n_epochs = 1\n",
    "\n",
    "\n",
    "for i in range(n_epochs):\n",
    "    # 生成加法问题，除以2， 防止加法溢出\n",
    "    a_int = 15\n",
    "#     a_int = np.random.randint(largest_number / 2)\n",
    "    a = int2binary[a_int]\n",
    "    b_int = 7\n",
    "#     b_int = np.random.randint(largest_number / 2)\n",
    "\n",
    "    b = int2binary[b_int]\n",
    "    \n",
    "    c_int = a_int + b_int\n",
    "    c = int2binary[c_int]\n",
    "    \n",
    "    d = np.zeros_like(c)\n",
    "    \n",
    "    # 训练实例\n",
    "    X = np.array([a, b]).T\n",
    "    y = np.array([c]).T\n",
    "    \n",
    "    loss = 0\n",
    "    hs = []  #每个步长下的隐含特征 \n",
    "    hs.append(np.zeros((1, hidden1)))\n",
    "    os = [] #每个步长的预测值\n",
    "    \n",
    "    # forward\n",
    "    for t in range(binary_dim):\n",
    "        xt = X[binary_dim - t - 1]  # 反着来\n",
    "        ht = sigmoid(np.dot(xt, U) + np.dot(hs[-1], V))\n",
    "        ot = sigmoid(np.dot(ht, W))\n",
    "        hs.append(ht)\n",
    "        os.append(ot)\n",
    "        loss += np.abs(ot - y[binary_dim - t - 1])[0][0]\n",
    "        \n",
    "        # predict\n",
    "        d[binary_dim - t - 1] = np.round(ot)[0][0]\n",
    "        \n",
    "        \n",
    "    #bp\n",
    "    future_d_ht = np.zeros((1, hidden1))\n",
    "    \n",
    "    for t in reversed(range(binary_dim)):\n",
    "        xt = X[binary_dim - t - 1].reshape(1, -1)\n",
    "        ht = hs[t + 1]\n",
    "        ht_prev = hs[t]\n",
    "        ot = os[t]\n",
    "        \n",
    "        #d_loss/d_ot\n",
    "        d_ot = ot - y[binary_dim - t - 1]\n",
    "        d_ot_output = sigmoid_derivative(ot) * d_ot\n",
    "        dW += ht.T.dot(d_ot_output)\n",
    "        \n",
    "        d_ht = d_ot_output.dot(W.T) + future_d_ht\n",
    "        d_ht_output = sigmoid_derivative(ht) * d_ht\n",
    "        dU += xt.T.dot(d_ht_output)\n",
    "        dV += ht_prev.T.dot(d_ht_output)\n",
    "        \n",
    "        # 更新futured_d_ht\n",
    "        future_d_ht = d_ht_output.dot(V.T)\n",
    "    \n",
    "    # 梯度更新\n",
    "    U -= learning_rate * dU\n",
    "    V -= learning_rate * dV\n",
    "    W -= learning_rate * dW\n",
    "    \n",
    "#     重置梯度\n",
    "    dU *= 0\n",
    "    dV *= 0\n",
    "    dW *= 0\n",
    "    \n",
    "    if i % 1000 == 0:\n",
    "        print(\"loss:\" + str(loss))\n",
    "        print(\"Pred:\" + str(d))\n",
    "        print(\"Ture:\" + str(c))\n",
    "        \n",
    "        out = 0\n",
    "        for index, x in enumerate(reversed(d)):\n",
    "            out += x * pow(2, index)\n",
    "        print(str(a_int) + \" + \" + str(b_int) + \" = \" + str(out))\n",
    "        print(\"------------\")\n",
    "        "
   ]
  },
  {
   "cell_type": "code",
   "execution_count": null,
   "metadata": {},
   "outputs": [],
   "source": [
    "\n",
    "    "
   ]
  },
  {
   "cell_type": "code",
   "execution_count": 55,
   "metadata": {},
   "outputs": [],
   "source": [
    "a = int2binary[10]\n",
    "b = int2binary[11]"
   ]
  },
  {
   "cell_type": "code",
   "execution_count": null,
   "metadata": {},
   "outputs": [],
   "source": []
  },
  {
   "cell_type": "code",
   "execution_count": null,
   "metadata": {},
   "outputs": [],
   "source": []
  }
 ],
 "metadata": {
  "kernelspec": {
   "display_name": "Python 3",
   "language": "python",
   "name": "python3"
  },
  "language_info": {
   "codemirror_mode": {
    "name": "ipython",
    "version": 3
   },
   "file_extension": ".py",
   "mimetype": "text/x-python",
   "name": "python",
   "nbconvert_exporter": "python",
   "pygments_lexer": "ipython3",
   "version": "3.6.4"
  }
 },
 "nbformat": 4,
 "nbformat_minor": 2
}
