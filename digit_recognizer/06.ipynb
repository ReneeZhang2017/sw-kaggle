{
 "cells": [
  {
   "cell_type": "code",
   "execution_count": 153,
   "metadata": {},
   "outputs": [],
   "source": [
    "# 准备工作\n",
    "\n",
    "import warnings\n",
    "\n",
    "import numpy as np\n",
    "import pandas as pd\n",
    "from sklearn.pipeline import Pipeline\n",
    "import tensorflow as tf\n",
    "from sklearn.model_selection import train_test_split\n",
    "from sklearn.model_selection import StratifiedShuffleSplit\n",
    "from sklearn.metrics import accuracy_score\n",
    "\n",
    "import matplotlib.pyplot as plt\n",
    "\n",
    "%matplotlib inline"
   ]
  },
  {
   "cell_type": "code",
   "execution_count": 154,
   "metadata": {},
   "outputs": [],
   "source": [
    "# 加载数据\n",
    "train_tf = pd.read_csv(\"./datasets/train.csv\")\n",
    "test_tf = pd.read_csv(\"./datasets/test.csv\")\n",
    "train_data = train_tf.drop([\"label\"], axis=1)\n",
    "train_label = train_tf[\"label\"]"
   ]
  },
  {
   "cell_type": "code",
   "execution_count": 155,
   "metadata": {},
   "outputs": [],
   "source": [
    "train_label_one_hot = pd.get_dummies(train_label)"
   ]
  },
  {
   "cell_type": "code",
   "execution_count": null,
   "metadata": {},
   "outputs": [],
   "source": []
  },
  {
   "cell_type": "code",
   "execution_count": 156,
   "metadata": {},
   "outputs": [],
   "source": [
    "X_train, X_test, y_train,  y_test = train_test_split(train_data, \n",
    "                                                     train_label_one_hot, test_size=0.2, \n",
    "                                                     random_state=42, stratify=train_label)\n"
   ]
  },
  {
   "cell_type": "code",
   "execution_count": 157,
   "metadata": {},
   "outputs": [
    {
     "data": {
      "text/plain": [
       "(33600, 784)"
      ]
     },
     "execution_count": 157,
     "metadata": {},
     "output_type": "execute_result"
    }
   ],
   "source": [
    "m, n = X_train.shape\n",
    "X_train.shape"
   ]
  },
  {
   "cell_type": "code",
   "execution_count": null,
   "metadata": {},
   "outputs": [],
   "source": []
  },
  {
   "cell_type": "code",
   "execution_count": null,
   "metadata": {},
   "outputs": [],
   "source": []
  },
  {
   "cell_type": "code",
   "execution_count": 158,
   "metadata": {},
   "outputs": [],
   "source": [
    "# 神经网络参数\n",
    "learning_rate = 0.001\n",
    "num_steps = 500\n",
    "batch_size = 100\n",
    "display_step = 50\n",
    "\n",
    "num_input = 784\n",
    "num_classes = 10\n",
    "dropout = 0.75\n",
    "\n",
    "# tf 计算图输入\n",
    "X = tf.placeholder(tf.float32, [None, num_input])\n",
    "Y = tf.placeholder(tf.float32, [None, num_classes])\n",
    "keep_prob = tf.placeholder(tf.float32)"
   ]
  },
  {
   "cell_type": "code",
   "execution_count": 159,
   "metadata": {},
   "outputs": [],
   "source": [
    "# conv2d的封装层\n",
    "def conv2d(x, W, b, strides=1):\n",
    "    # strides 步长为1\n",
    "    x = tf.nn.conv2d(x, W, strides=[1, strides, strides, 1], padding=\"SAME\")\n",
    "    x = tf.nn.bias_add(x, b)\n",
    "    return tf.nn.relu(x)"
   ]
  },
  {
   "cell_type": "code",
   "execution_count": 160,
   "metadata": {},
   "outputs": [],
   "source": [
    "# 池化层的封装\n",
    "def maxpool2d(x, k=2):  \n",
    "    # k 池化大小\n",
    "    result = tf.nn.max_pool(x, ksize=[1, k, k, 1], strides=[1, k, k, 1], \n",
    "                           padding=\"SAME\")\n",
    "    return result\n",
    "    "
   ]
  },
  {
   "cell_type": "code",
   "execution_count": 161,
   "metadata": {},
   "outputs": [],
   "source": [
    "# cnn模型结构\n",
    "def conv_net(x, weights, biases, dropout):\n",
    "    # input: [batch_size, height, weight, channel]\n",
    "    x = tf.reshape(x, shape=[-1, 28, 28, 1])\n",
    "    \n",
    "    # 卷积层\n",
    "    conv1 = conv2d(x, weights['wc1'], biases['bc1'])\n",
    "    conv1 = maxpool2d(conv1, 2)\n",
    "    \n",
    "#     conv2 = conv2d(conv1, weights['wc2'], biases['bc2'])\n",
    "#     conv2 = maxpool2d(conv2, 2)\n",
    "    \n",
    "    # 全连接层\n",
    "    fc1 = tf.reshape(conv1, [-1, weights['wd1'].get_shape().as_list()[0]])\n",
    "    fc1 = tf.add(tf.matmul(fc1, weights['wd1']), biases['bd1'])\n",
    "    fc1 = tf.nn.relu(fc1)\n",
    "    \n",
    "    # dropout\n",
    "    fc1 = tf.nn.dropout(fc1, dropout)\n",
    "\n",
    "    out = tf.add(tf.matmul(fc1, weights['out']), biases['out'])\n",
    "    return out"
   ]
  },
  {
   "cell_type": "code",
   "execution_count": 162,
   "metadata": {},
   "outputs": [],
   "source": [
    "# 权重和偏置\n",
    "weights = {\n",
    "     # 5*5 conc, 1 input, 32 outputs\n",
    "    'wc1':tf.Variable(tf.random_normal([5, 5, 1, 10])),\n",
    "#     'wc2':tf.Variable(tf.random_normal([5, 5, 1, 1])),\n",
    "    'wd1':tf.Variable(tf.random_normal([14 * 14 * 10, 100])), \n",
    "    'out':tf.Variable(tf.random_normal([100, num_classes]))\n",
    "}\n",
    "biases = {\n",
    "    'bc1':tf.Variable(tf.random_normal([10])),\n",
    "#     'bc2':tf.Variable(tf.random_normal([1])),\n",
    "    'bd1':tf.Variable(tf.random_normal([100])),\n",
    "    'out':tf.Variable(tf.random_normal([num_classes]))\n",
    "}"
   ]
  },
  {
   "cell_type": "code",
   "execution_count": 163,
   "metadata": {},
   "outputs": [],
   "source": [
    "# init = tf.global_variables_initializer()\n",
    "# with tf.Session() as sess:\n",
    "#     sess.run(init)\n",
    "#     a = weights['wd1'].get_shape()\n",
    "#     print(type(a))"
   ]
  },
  {
   "cell_type": "code",
   "execution_count": 164,
   "metadata": {},
   "outputs": [],
   "source": [
    "# 输出结果\n",
    "logits = conv_net(X, weights, biases, keep_prob)\n",
    "prediction = tf.nn.softmax(logits)"
   ]
  },
  {
   "cell_type": "code",
   "execution_count": 165,
   "metadata": {},
   "outputs": [],
   "source": [
    "# 定义损失和优化器\n",
    "loss_op = tf.reduce_mean(tf.nn.softmax_cross_entropy_with_logits(logits=logits, labels=Y))\n",
    "optimizer = tf.train.AdamOptimizer(learning_rate=learning_rate)\n",
    "train_op = optimizer.minimize(loss_op)"
   ]
  },
  {
   "cell_type": "code",
   "execution_count": 166,
   "metadata": {},
   "outputs": [],
   "source": [
    "# 评估模型\n",
    "correct_pred = tf.equal(tf.argmax(prediction, 1), tf.argmax(Y, 1)) # true or false\n",
    "accuracy = tf.reduce_mean(tf.cast(correct_pred, tf.float32))"
   ]
  },
  {
   "cell_type": "code",
   "execution_count": 167,
   "metadata": {},
   "outputs": [],
   "source": [
    "# 变量初始化\n",
    "init = tf.global_variables_initializer()\n",
    "saver = tf.train.Saver()"
   ]
  },
  {
   "cell_type": "code",
   "execution_count": 168,
   "metadata": {},
   "outputs": [
    {
     "name": "stdout",
     "output_type": "stream",
     "text": [
      "Step 0, Minibatch Loss= 226833.7188, Training Accuracy= 0.140\n",
      "Step 50, Minibatch Loss= 45328.6914, Training Accuracy= 0.330\n",
      "Step 100, Minibatch Loss= 23314.9805, Training Accuracy= 0.570\n",
      "Step 150, Minibatch Loss= 14519.3154, Training Accuracy= 0.650\n",
      "Step 200, Minibatch Loss= 13341.2871, Training Accuracy= 0.590\n",
      "Step 250, Minibatch Loss= 10508.9121, Training Accuracy= 0.720\n",
      "Step 300, Minibatch Loss= 8423.2822, Training Accuracy= 0.740\n",
      "Step 350, Minibatch Loss= 3871.4299, Training Accuracy= 0.800\n",
      "Step 400, Minibatch Loss= 6507.9424, Training Accuracy= 0.740\n",
      "Step 450, Minibatch Loss= 2920.6125, Training Accuracy= 0.770\n",
      "Optimization Finished!\n"
     ]
    }
   ],
   "source": [
    "# 开始训练\n",
    "with tf.Session() as sess:\n",
    "    sess.run(init)\n",
    "    for step in range(num_steps):\n",
    "        index = np.random.randint(m - batch_size)\n",
    "        batch_x = X_train[index: index + batch_size].values\n",
    "        batch_y = y_train[index: index + batch_size].values\n",
    "        sess.run(train_op, feed_dict={X:batch_x, Y:batch_y, keep_prob: dropout})\n",
    "        if step % display_step == 0:\n",
    "            # 计算batch 的损失和精确度\n",
    "            loss, acc = sess.run([loss_op, accuracy], feed_dict={X: batch_x, Y:batch_y, keep_prob:1.0})\n",
    "            print(\"Step \" + str(step) + \", Minibatch Loss= \" + \"{:.4f}\".format(loss) + \n",
    "                  \", Training Accuracy= \" + \"{:.3f}\".format(acc) )\n",
    "    print(\"Optimization Finished!\")\n",
    "    \n",
    "#     print(\"Testing Accuracy:\", sess.run(accuracy, feed_dict={X:X_test, Y:y_test, keep_prob:1.0}))\n",
    "#     saver.save(sess, \"./model/06_final.ckpt\")"
   ]
  },
  {
   "cell_type": "code",
   "execution_count": 142,
   "metadata": {},
   "outputs": [],
   "source": [
    "# with tf.Session() as sess:\n",
    "#     saver.restore(sess, \"./model/06_final.ckpt\")\n",
    "#     Z = sess.run(logits, feed_dict={X:test_tf.values, keep_prob:1.0})\n",
    "#     p_pred = np.argmax(Z, 1)"
   ]
  },
  {
   "cell_type": "code",
   "execution_count": null,
   "metadata": {},
   "outputs": [],
   "source": []
  },
  {
   "cell_type": "markdown",
   "metadata": {},
   "source": [
    "## 高级API"
   ]
  },
  {
   "cell_type": "code",
   "execution_count": 176,
   "metadata": {},
   "outputs": [],
   "source": [
    "X_train, X_test, y_train,  y_test = train_test_split(train_data, \n",
    "                                                     train_label, test_size=0.2, \n",
    "                                                     random_state=42, stratify=train_label)"
   ]
  },
  {
   "cell_type": "code",
   "execution_count": 204,
   "metadata": {},
   "outputs": [
    {
     "data": {
      "text/plain": [
       "array([[0, 0, 0, ..., 0, 0, 0],\n",
       "       [0, 0, 0, ..., 0, 0, 0],\n",
       "       [0, 0, 0, ..., 0, 0, 0],\n",
       "       [0, 0, 0, ..., 0, 0, 0],\n",
       "       [0, 0, 0, ..., 0, 0, 0]])"
      ]
     },
     "execution_count": 204,
     "metadata": {},
     "output_type": "execute_result"
    }
   ],
   "source": []
  },
  {
   "cell_type": "code",
   "execution_count": 224,
   "metadata": {},
   "outputs": [],
   "source": [
    "def conv_net2(X,n_classes, dropout, reuse, is_training):\n",
    "    with tf.variable_scope(\"ConvNet\", reuse=reuse):\n",
    "        X = tf.cast(X, tf.float32)\n",
    "        x = tf.reshape(X, shape=[-1, 28, 28, 1])\n",
    "        conv1 = tf.layers.conv2d(x, 1, 5, activation=tf.nn.relu)\n",
    "        conv1 = tf.layers.max_pooling2d(conv1, 2, 2)\n",
    "        \n",
    "        fc1 = tf.contrib.layers.flatten(conv1)\n",
    "        fc1 = tf.layers.dense(fc1, 100)\n",
    "        fc1 = tf.layers.dropout(fc1, rate=dropout, training=is_training)\n",
    "        \n",
    "        out = tf.layers.dense(fc1, 10)\n",
    "    \n",
    "    return out"
   ]
  },
  {
   "cell_type": "code",
   "execution_count": 225,
   "metadata": {},
   "outputs": [],
   "source": [
    "def model_fn(features, labels, mode):\n",
    "    logits_train = conv_net2(features, num_classes, dropout, reuse=False, is_training=True)\n",
    "    logits_test = conv_net2(features, num_classes, dropout, reuse=True, is_training=False)\n",
    "    \n",
    "    pred_classes = tf.argmax(logits_test, axis=1)\n",
    "#     pred_proba = tf.nn.softmax(logits_test)\n",
    "    \n",
    "    if mode == tf.estimator.ModeKeys.PREDICT:\n",
    "        return tf.estimator.EstimatorSpec(mode, predictions=pred_classes)\n",
    "    \n",
    "    loss_op = tf.reduce_mean(tf.nn.sparse_softmax_cross_entropy_with_logits(logits=logits_train, \n",
    "                                                                           labels=tf.cast(labels, dtype=tf.int32)))\n",
    "    optimizer = tf.train.AdamOptimizer(learning_rate=learning_rate)\n",
    "    train_op = optimizer.minimize(loss_op, global_step=tf.train.get_global_step())\n",
    "    \n",
    "    acc_op = tf.metrics.accuracy(labels=labels, predictions=pred_classes)\n",
    "    \n",
    "    estim_specs = tf.estimator.EstimatorSpec(mode=mode,predictions=pred_classes, \n",
    "                                        loss=loss_op, train_op=train_op, \n",
    "                                        eval_metric_ops={\"accuracy\":acc_op})\n",
    "    return estim_specs"
   ]
  },
  {
   "cell_type": "code",
   "execution_count": 226,
   "metadata": {},
   "outputs": [
    {
     "name": "stdout",
     "output_type": "stream",
     "text": [
      "INFO:tensorflow:Using default config.\n",
      "WARNING:tensorflow:Using temporary folder as model directory: /var/folders/j0/mlln6qvj2kl42rr7mg80lsxc0000gn/T/tmpq4y4grbl\n",
      "INFO:tensorflow:Using config: {'_model_dir': '/var/folders/j0/mlln6qvj2kl42rr7mg80lsxc0000gn/T/tmpq4y4grbl', '_tf_random_seed': None, '_save_summary_steps': 100, '_save_checkpoints_steps': None, '_save_checkpoints_secs': 600, '_session_config': None, '_keep_checkpoint_max': 5, '_keep_checkpoint_every_n_hours': 10000, '_log_step_count_steps': 100, '_train_distribute': None, '_service': None, '_cluster_spec': <tensorflow.python.training.server_lib.ClusterSpec object at 0x1a19f84a90>, '_task_type': 'worker', '_task_id': 0, '_global_id_in_cluster': 0, '_master': '', '_evaluation_master': '', '_is_chief': True, '_num_ps_replicas': 0, '_num_worker_replicas': 1}\n",
      "INFO:tensorflow:Calling model_fn.\n",
      "INFO:tensorflow:Done calling model_fn.\n",
      "INFO:tensorflow:Create CheckpointSaverHook.\n",
      "INFO:tensorflow:Graph was finalized.\n",
      "INFO:tensorflow:Running local_init_op.\n",
      "INFO:tensorflow:Done running local_init_op.\n",
      "INFO:tensorflow:Saving checkpoints for 1 into /var/folders/j0/mlln6qvj2kl42rr7mg80lsxc0000gn/T/tmpq4y4grbl/model.ckpt.\n",
      "INFO:tensorflow:loss = 298.60184, step = 1\n",
      "INFO:tensorflow:global_step/sec: 68.3271\n",
      "INFO:tensorflow:loss = 25.522734, step = 101 (1.465 sec)\n",
      "INFO:tensorflow:global_step/sec: 70.5763\n",
      "INFO:tensorflow:loss = 9.169849, step = 201 (1.417 sec)\n",
      "INFO:tensorflow:global_step/sec: 70.8588\n",
      "INFO:tensorflow:loss = 3.591262, step = 301 (1.411 sec)\n",
      "INFO:tensorflow:global_step/sec: 71.4255\n",
      "INFO:tensorflow:loss = 3.6179755, step = 401 (1.400 sec)\n",
      "INFO:tensorflow:Saving checkpoints for 500 into /var/folders/j0/mlln6qvj2kl42rr7mg80lsxc0000gn/T/tmpq4y4grbl/model.ckpt.\n",
      "INFO:tensorflow:Loss for final step: 3.3054168.\n"
     ]
    },
    {
     "data": {
      "text/plain": [
       "<tensorflow.python.estimator.estimator.Estimator at 0x1a19f84978>"
      ]
     },
     "execution_count": 226,
     "metadata": {},
     "output_type": "execute_result"
    }
   ],
   "source": [
    "model = tf.estimator.Estimator(model_fn)\n",
    "input_fn = tf.estimator.inputs.numpy_input_fn(x=X_train.values,\n",
    "                                              y=y_train.values, \n",
    "                                              batch_size=batch_size, \n",
    "                                             num_epochs=None, shuffle=True)\n",
    "model.train(input_fn, steps=num_steps)"
   ]
  },
  {
   "cell_type": "code",
   "execution_count": 227,
   "metadata": {},
   "outputs": [
    {
     "name": "stdout",
     "output_type": "stream",
     "text": [
      "INFO:tensorflow:Calling model_fn.\n",
      "INFO:tensorflow:Done calling model_fn.\n",
      "INFO:tensorflow:Starting evaluation at 2018-05-30-08:09:34\n",
      "INFO:tensorflow:Graph was finalized.\n",
      "INFO:tensorflow:Restoring parameters from /var/folders/j0/mlln6qvj2kl42rr7mg80lsxc0000gn/T/tmpq4y4grbl/model.ckpt-500\n",
      "INFO:tensorflow:Running local_init_op.\n",
      "INFO:tensorflow:Done running local_init_op.\n",
      "INFO:tensorflow:Finished evaluation at 2018-05-30-08:09:34\n",
      "INFO:tensorflow:Saving dict for global step 500: accuracy = 0.19154762, global_step = 500, loss = 3.0313046\n"
     ]
    },
    {
     "data": {
      "text/plain": [
       "{'accuracy': 0.19154762, 'global_step': 500, 'loss': 3.0313046}"
      ]
     },
     "execution_count": 227,
     "metadata": {},
     "output_type": "execute_result"
    }
   ],
   "source": [
    "# 评估模型\n",
    "input_fn = tf.estimator.inputs.numpy_input_fn(x = X_test.values, \n",
    "                                             y = y_test.values, \n",
    "                                             batch_size=batch_size, \n",
    "                                             shuffle=True)\n",
    "model.evaluate(input_fn)"
   ]
  },
  {
   "cell_type": "code",
   "execution_count": 228,
   "metadata": {},
   "outputs": [
    {
     "name": "stdout",
     "output_type": "stream",
     "text": [
      "INFO:tensorflow:Calling model_fn.\n",
      "INFO:tensorflow:Done calling model_fn.\n",
      "INFO:tensorflow:Graph was finalized.\n",
      "INFO:tensorflow:Restoring parameters from /var/folders/j0/mlln6qvj2kl42rr7mg80lsxc0000gn/T/tmpq4y4grbl/model.ckpt-500\n",
      "INFO:tensorflow:Running local_init_op.\n",
      "INFO:tensorflow:Done running local_init_op.\n"
     ]
    }
   ],
   "source": [
    "# 进行预测\n",
    "input_fn = tf.estimator.inputs.numpy_input_fn(x = X_test.values,  \n",
    "                                             shuffle=True)\n",
    "y_pred = np.array( list( (model.predict(input_fn)) ) )"
   ]
  },
  {
   "cell_type": "code",
   "execution_count": null,
   "metadata": {},
   "outputs": [],
   "source": []
  },
  {
   "cell_type": "code",
   "execution_count": null,
   "metadata": {},
   "outputs": [],
   "source": []
  }
 ],
 "metadata": {
  "kernelspec": {
   "display_name": "Python 3",
   "language": "python",
   "name": "python3"
  },
  "language_info": {
   "codemirror_mode": {
    "name": "ipython",
    "version": 3
   },
   "file_extension": ".py",
   "mimetype": "text/x-python",
   "name": "python",
   "nbconvert_exporter": "python",
   "pygments_lexer": "ipython3",
   "version": "3.6.4"
  }
 },
 "nbformat": 4,
 "nbformat_minor": 2
}
