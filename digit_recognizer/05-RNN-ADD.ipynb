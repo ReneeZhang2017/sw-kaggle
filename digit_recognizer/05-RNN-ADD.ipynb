{
 "cells": [
  {
   "cell_type": "code",
   "execution_count": 38,
   "metadata": {},
   "outputs": [],
   "source": [
    "import numpy as np\n",
    "def sigmoid(x):\n",
    "    return 1.0 / (1.0 + np.exp(-x))\n",
    "#     return x * (x > 0)\n",
    "def sigmoid_derivative(output):\n",
    "    return output * (1 - output)\n",
    "#     return 1.0 * (output > 0)"
   ]
  },
  {
   "cell_type": "code",
   "execution_count": 39,
   "metadata": {},
   "outputs": [],
   "source": [
    "# 整数与二进制转化\n",
    "int2binary = {}\n",
    "binary_dim = 9"
   ]
  },
  {
   "cell_type": "code",
   "execution_count": 40,
   "metadata": {},
   "outputs": [],
   "source": [
    "largest_number = pow(2, binary_dim)\n",
    "\n"
   ]
  },
  {
   "cell_type": "code",
   "execution_count": 41,
   "metadata": {},
   "outputs": [],
   "source": [
    "def int2bin(int_num):\n",
    "    b_temp = bin(int_num)[2:]\n",
    "    len_diff = binary_dim - len(b_temp)\n",
    "    b_temp = '0' * len_diff + b_temp\n",
    "    result =  [int(i) for i in b_temp]\n",
    "    return result\n",
    "\n",
    "binary = np.array([ int2bin(i) for i in range(largest_number)])"
   ]
  },
  {
   "cell_type": "code",
   "execution_count": null,
   "metadata": {},
   "outputs": [],
   "source": []
  },
  {
   "cell_type": "code",
   "execution_count": 42,
   "metadata": {},
   "outputs": [],
   "source": [
    "for i in range(largest_number):\n",
    "    int2binary[i] = binary[i]"
   ]
  },
  {
   "cell_type": "code",
   "execution_count": null,
   "metadata": {},
   "outputs": [],
   "source": []
  },
  {
   "cell_type": "code",
   "execution_count": 43,
   "metadata": {},
   "outputs": [],
   "source": [
    "# 网络结构\n",
    "n_input = 2\n",
    "hidden1 = 20\n",
    "n_output = 1\n",
    "learning_rate = 1"
   ]
  },
  {
   "cell_type": "code",
   "execution_count": 44,
   "metadata": {},
   "outputs": [],
   "source": [
    "# 初始化模型参数\n",
    "U = np.random.randn(n_input, hidden1)\n",
    "V = np.random.randn(hidden1, hidden1)\n",
    "W = np.random.randn(hidden1, n_output)"
   ]
  },
  {
   "cell_type": "code",
   "execution_count": 45,
   "metadata": {},
   "outputs": [],
   "source": [
    "dU = np.zeros_like(U)\n",
    "dV = np.zeros_like(V)\n",
    "dW = np.zeros_like(W)"
   ]
  },
  {
   "cell_type": "code",
   "execution_count": null,
   "metadata": {},
   "outputs": [],
   "source": [
    "\n"
   ]
  },
  {
   "cell_type": "code",
   "execution_count": 46,
   "metadata": {},
   "outputs": [
    {
     "name": "stdout",
     "output_type": "stream",
     "text": [
      "loss:2.631525562672712\n",
      "Pred:[0 0 0 0 0 0 0 0 0]\n",
      "Ture:[1 0 1 0 0 0 0 0 1]\n",
      "144 + 177 = 0\n",
      "------------\n",
      "loss:0.024948159477634745\n",
      "Pred:[0 1 1 0 1 1 0 0 1]\n",
      "Ture:[0 1 1 0 1 1 0 0 1]\n",
      "87 + 130 = 217\n",
      "------------\n",
      "loss:0.005685330333505883\n",
      "Pred:[1 1 0 1 1 0 1 1 1]\n",
      "Ture:[1 1 0 1 1 0 1 1 1]\n",
      "242 + 197 = 439\n",
      "------------\n",
      "loss:0.003747727674184878\n",
      "Pred:[0 1 1 1 0 0 1 0 0]\n",
      "Ture:[0 1 1 1 0 0 1 0 0]\n",
      "86 + 142 = 228\n",
      "------------\n",
      "loss:0.002236044482421984\n",
      "Pred:[1 0 0 1 0 0 0 0 1]\n",
      "Ture:[1 0 0 1 0 0 0 0 1]\n",
      "83 + 206 = 289\n",
      "------------\n",
      "loss:0.0015402515496470632\n",
      "Pred:[0 1 0 0 1 0 1 1 0]\n",
      "Ture:[0 1 0 0 1 0 1 1 0]\n",
      "146 + 4 = 150\n",
      "------------\n",
      "loss:0.001340282045114269\n",
      "Pred:[0 1 1 1 1 1 1 1 0]\n",
      "Ture:[0 1 1 1 1 1 1 1 0]\n",
      "218 + 36 = 254\n",
      "------------\n",
      "loss:0.0015544571009179706\n",
      "Pred:[1 1 1 0 0 1 0 1 0]\n",
      "Ture:[1 1 1 0 0 1 0 1 0]\n",
      "220 + 238 = 458\n",
      "------------\n",
      "loss:0.001071746650344982\n",
      "Pred:[1 1 0 1 1 1 0 0 0]\n",
      "Ture:[1 1 0 1 1 1 0 0 0]\n",
      "244 + 196 = 440\n",
      "------------\n",
      "loss:0.0009258410558978285\n",
      "Pred:[1 1 1 1 0 0 1 1 1]\n",
      "Ture:[1 1 1 1 0 0 1 1 1]\n",
      "253 + 234 = 487\n",
      "------------\n",
      "loss:0.0005789922423041313\n",
      "Pred:[1 0 1 0 0 0 0 0 1]\n",
      "Ture:[1 0 1 0 0 0 0 0 1]\n",
      "144 + 177 = 321\n",
      "------------\n"
     ]
    }
   ],
   "source": [
    "# 训练次数\n",
    "n_epochs = 10000\n",
    "\n",
    "for i in range(n_epochs + 1):\n",
    "    # 生成加法问题，除以2， 防止加法溢出\n",
    "    a_int = np.random.randint(largest_number / 2)\n",
    "\n",
    "    b_int = np.random.randint(largest_number / 2)\n",
    "    if i == 0 or i == n_epochs:\n",
    "        a_int = 144\n",
    "        b_int = 177\n",
    "    \n",
    "    a = int2binary[a_int]\n",
    "    b = int2binary[b_int]\n",
    "    \n",
    "    c_int = a_int + b_int\n",
    "    c = int2binary[c_int]\n",
    "    \n",
    "    d = np.zeros_like(c)\n",
    "    \n",
    "    loss = 0\n",
    "    \n",
    "    # 训练实例\n",
    "    X = np.array([a, b]).T\n",
    "    y = np.array([c]).T\n",
    "    \n",
    "    hs = []  #每个步长下的隐含特征 \n",
    "    hs.append(np.zeros((1, hidden1)))\n",
    "    os = [] #每个步长的预测值\n",
    "    \n",
    "    # forward\n",
    "    for t in range(binary_dim):\n",
    "        xt = X[binary_dim - t - 1]  # 反着来\n",
    "        \n",
    "        ht = sigmoid(np.dot(xt, U) + np.dot(hs[-1], V)) # +prev_hidden\n",
    "        ot = sigmoid(np.dot(ht, W))\n",
    "        hs.append(ht)\n",
    "        os.append(ot)\n",
    "        loss += pow(ot - y[binary_dim - t - 1], 2)[0][0]\n",
    "        \n",
    "        # predict\n",
    "        d[binary_dim - t - 1] = np.round(ot)[0][0]\n",
    "        \n",
    "        \n",
    "    #bp\n",
    "    future_d_ht = np.zeros((1, hidden1))\n",
    "    \n",
    "    for t in reversed(range(binary_dim)):\n",
    "        xt = X[binary_dim - t - 1].reshape(1, -1)\n",
    "        ht = hs[t + 1]\n",
    "        ht_prev = hs[t]\n",
    "        ot = os[t]\n",
    "        \n",
    "        #d_loss/d_ot\n",
    "        d_ot = ot - y[binary_dim - t - 1]\n",
    "        d_ot_output = sigmoid_derivative(ot) * d_ot\n",
    "        dW += ht.T.dot(d_ot_output)\n",
    "        \n",
    "        d_ht = d_ot_output.dot(W.T) + future_d_ht\n",
    "        d_ht_output = sigmoid_derivative(ht) * d_ht\n",
    "        dU += xt.T.dot(d_ht_output)\n",
    "        dV += ht_prev.T.dot(d_ht_output)\n",
    "        \n",
    "        # 更新futured_d_ht\n",
    "        future_d_ht = d_ht_output.dot(V.T)\n",
    "    \n",
    "    # 梯度更新\n",
    "    U -= learning_rate * dU\n",
    "    V -= learning_rate * dV\n",
    "    W -= learning_rate * dW\n",
    "    \n",
    "#     重置梯度\n",
    "    dU *= 0\n",
    "    dV *= 0\n",
    "    dW *= 0\n",
    "    \n",
    "    if i % 1000 == 0:\n",
    "        print(\"loss:\" + str(loss))\n",
    "        print(\"Pred:\" + str(d))\n",
    "        print(\"Ture:\" + str(c))\n",
    "        \n",
    "        out = 0\n",
    "        for index, x in enumerate(reversed(d)):\n",
    "            out += x * pow(2, index)\n",
    "        print(str(a_int) + \" + \" + str(b_int) + \" = \" + str(out))\n",
    "        print(\"------------\")\n",
    "        "
   ]
  },
  {
   "cell_type": "code",
   "execution_count": null,
   "metadata": {},
   "outputs": [],
   "source": []
  },
  {
   "cell_type": "code",
   "execution_count": null,
   "metadata": {},
   "outputs": [],
   "source": []
  },
  {
   "cell_type": "code",
   "execution_count": null,
   "metadata": {},
   "outputs": [],
   "source": []
  },
  {
   "cell_type": "code",
   "execution_count": null,
   "metadata": {},
   "outputs": [],
   "source": []
  }
 ],
 "metadata": {
  "kernelspec": {
   "display_name": "Python 3",
   "language": "python",
   "name": "python3"
  },
  "language_info": {
   "codemirror_mode": {
    "name": "ipython",
    "version": 3
   },
   "file_extension": ".py",
   "mimetype": "text/x-python",
   "name": "python",
   "nbconvert_exporter": "python",
   "pygments_lexer": "ipython3",
   "version": "3.6.4"
  }
 },
 "nbformat": 4,
 "nbformat_minor": 2
}
