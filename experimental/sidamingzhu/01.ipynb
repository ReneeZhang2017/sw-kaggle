{
 "cells": [
  {
   "cell_type": "code",
   "execution_count": 105,
   "metadata": {},
   "outputs": [],
   "source": [
    "import os\n",
    "import numpy as np\n",
    "import pandas as pd\n",
    "import re\n",
    "import sys  \n",
    "import matplotlib.pyplot as plt"
   ]
  },
  {
   "cell_type": "markdown",
   "metadata": {},
   "source": [
    "### 将txt保存为csv"
   ]
  },
  {
   "cell_type": "code",
   "execution_count": 106,
   "metadata": {},
   "outputs": [],
   "source": [
    "# def text2csv():\n",
    "#     with open(\"./datasets/hongloumeng.txt\", \"r\") as f:\n",
    "#         text = f.read()\n",
    "#     reg = \"第[一二三四五六七八九十百]+回\"\n",
    "#     l = re.split(reg, text)\n",
    "#     l = [i  for i in l if len(i) > 200]\n",
    "#     index = range(1, 121)\n",
    "#     result = pd.DataFrame({\n",
    "#         \"id\":index,\n",
    "#         \"text\":l\n",
    "#     })\n",
    "#     result.to_csv('./datasets/hongloumeng.csv', index=False)\n",
    "# text2csv()"
   ]
  },
  {
   "cell_type": "code",
   "execution_count": 144,
   "metadata": {},
   "outputs": [
    {
     "name": "stdout",
     "output_type": "stream",
     "text": [
      "112\n"
     ]
    }
   ],
   "source": [
    "# def text2csv():\n",
    "#     with open(\"./datasets/shuihuzhuan.txt\", \"r\") as f:\n",
    "#         text = f.read()\n",
    "#     reg = \"第[一二三四五六七八九十百]+回\"\n",
    "#     l = re.split(reg, text)\n",
    "#     l = [i  for i in l if len(i) > 200]\n",
    "#     print(len(l))\n",
    "#     index = range(1, len(l)+ 1)\n",
    "#     result = pd.DataFrame({\n",
    "#         \"id\":index,\n",
    "#         \"text\":l\n",
    "#     })\n",
    "#     result.to_csv('./datasets/shuihuzhuan.csv', index=False)\n",
    "# text2csv()"
   ]
  },
  {
   "cell_type": "code",
   "execution_count": 145,
   "metadata": {},
   "outputs": [],
   "source": [
    "text = pd.read_csv(\"./datasets/shuihuzhuan.csv\")"
   ]
  },
  {
   "cell_type": "code",
   "execution_count": 146,
   "metadata": {},
   "outputs": [],
   "source": [
    "import jieba\n",
    "import jieba.analyse"
   ]
  },
  {
   "cell_type": "code",
   "execution_count": 147,
   "metadata": {},
   "outputs": [],
   "source": [
    "vorc = [jieba.analyse.extract_tags(i, topK=1000) for i in text[\"text\"]]\n",
    "vorc = [\" \".join(i) for i in vorc]"
   ]
  },
  {
   "cell_type": "code",
   "execution_count": 148,
   "metadata": {},
   "outputs": [
    {
     "data": {
      "text/plain": [
       "'大尉 真人 天师 洪大尉 谓之 道童 太尉 御香 祖师 洪太尉 瘟疫 下官 看时 天子 魔王 如何 封皮 大虫 上山 只见 方丈 三清殿 众人 三千六百分 管铁笛 清宫 说道 洪信 享道 这代 禀道 此殿 万民 京师 方才 御书 信州 龙虎山 口里 牧童 那里 本站 贫道 这般 甚么 住持 答道 性命 盘舵石 黄牛 一声 诏书 松树 惊得 铁笛 天大 不见 三五十步 石碑 利害 去处 五更 道士 www shuyaya com 修设 宗天子 便间 宣诏 似此 今上 尤香 心不志诚 想道 又行 白额 提炉 山来 乘鹤 争些 大锁 之殿 假称 那碑 遇洪而开 阻当 掘动 肯听 竹藤 一面 山顶 三回五次 石龟 草诏 正过 下山 一堆 横吹 许多 军民 盛行 山坡 斋供 吊桶 底下 手炉 重重叠叠 次日 一惊 指着 一齐 东京 铁锹 起来 道行 煽惑 一个 驾云 山凹 戏弄 恐有 锄头 半山 朱红 只得 定睛 闪开 恰似 祥云 烧着 一道 毒气 直冲 布衣 四个 天灾 非同小可 何曾 居中 殿内 一阵风 金光 数百年 执事 上面 既然 回京 朝廷 妖魔 明月 供养 皇帝 跳出 分付 星夜 雪花 步行 山路 不可 响亮 惊恐 贴着 隐隐 山头 怎生 流水 救济 大怒 一所 路径 山中 喝道 只顾 之心 脚下 非常 乃是 大喜 难得 一行 分明 师张真人 列鼎而食 千片 绿鬓朱颜 迎接 一头 得知 无数 江西 一回 这场 说出 嘉佑 灵符 丁力士 监宫 七上八落 张开巨 粟子 那道童 三四声 阿道 后奏 太尉教 掘起来 百十道 向前 上去 赵哲 金童 碧琉璃 左壁 万堆 葛攀藤 银钩 俗态 左廊 三十夜 龙章凤 天摧地塌 目睁口呆 不过 严正声明 复会 聊生 风和日暖 香台 修真养性 磨断 摆尾摇头 当面错过 洞玄 告戒 昏昏默默 聚神 百姓 坐下 将来 放心 前面 宫花 万壑争流 奔雷 伸腰 吊睛 民间 背后 打开 罪囚 班启奏 邮亭 罗衣 斋戒沐浴 有眼不识 朱印 五六尺 三四尺 随即 大臣 天下 TXT http read 4731 误走 紫哀殿 受百 迷凤阁 龙楼 含烟 篮旗 带露 天香 影里 玉吞珠 履聚 帘卷 白王 阶前 停宝 净鞭 当有 殿头 出班 班部 出班奏 释罪 宽恩 省刑 薄税 听奏 降赦 命在京 其年 转盛 下安 那班部 以臣 此灾 宣嗣汉 禁院 奏闻 急令 亲书 井降 宣请嗣汉夭 来朝 亲将丹 诏忖 洪信领 天于 县来 遥山 远木 奇花 铺林 柳舞 拂地 时过 野店 路直 沙平 陌中 资擎 接诏 官同 官殿 敕额 户列 玉篆 虚皇坛 老桧 大乙真君 右势 簇捧定 踏龟 权履 顶冠 星君 后列 阶砌 墙院 好山 鹤生 丹顶 龟长 头献果 内衔 芝白鹿 步虚 敲玉磐 礼斗 光射 召将 瑶坛 摇红玛淄 下及 前迎 接至 好教 虚靖 性好 倦于 自向 尤虎 结一茅庵 下住 吝享 权供 开读 献茶 烦汁议 将丹 殴上 众官 再间 何下 开宣丹 驾雾 兴云 国今 亲奉 徐是 休带 自背 叩请 方许 食素 依着 权歇 寿上 草履 素斋 取过 降降 休生 退悔 宝号 纵步 直侵 好座 根盘 顶接 远观 乱云痕 看平 侧石 孤岭 平极 头圆下 藏虎藏豹 隐风 隐云 有境 古渡 右壁 为映 尖象 崎峻 似峭 似险 削磁如平 斜飞 时风主 青黛杂 盘坡 转径 脚酸 贵官 时重 却教 掇着 风过 锦毛 阿吁 地望 毛披 爪露 尾如 口似 牙似 展臂势 狐兔 下樟袍 左盘右 托地望 斗败 茶时 龙香 行过 怨道 御限 地响 抢出 似蛇来 望后 那蛇时 惊讽 掣目 拆峡 倒冈 云吐雾 乱分 尾梢 大蛇径 三魂 七魄 那蛇 惊杀 比滑灿儿 寻下 中帧 头缩 丫舍 来编 芒鞋 不染 吕侗宾 有首 诗道 横野 饱饭 卧月明 便唤 连间 差个 责擎 宣我往 祈攘 这小 尽知 惊唬 寻旧 曾见 夭师 中贵官 大蛇来 复道 下动 方欲 极是 道通 我直 真师 酌事 匣内 晚席 止宿 早膳 宫后 尽言 紫微殿 右廊 太乙殿 看遍 行到 殴字 捣椒红 棍予 棺前 漆金 伏魔 老租 锁镇 下敢 妄开 魔君 今经 誓丁敢 锁用 铜汁 渔铸 持本宫 惊怪 我且 告道 此殴 决下 擅开 妄生 我读 一鉴 见锁 处隔 庞王 禀说 恐惹 先奏 众道 土阻 违别 不令 庇王 远恶 军州 杏奋 载难 怎辨 召霄 人寒 侵体 常如 从人取 打一照 井无别物 阉上 符篆 真字 夭罡 星合当 必显 三来 已注 开看 日王 伤犯 下当 教开 人来 百板 穴内 那响 岳撼 浪拥 门来 巨灵神 奋怒 施咸 一风 憎折于 掀塌 殿角 那道 散作 奔到 分教 夜眠 昼食 忘餐 直使 宛予 萝儿 洼内 部从 绝早 香汤 千块 碧纱 结草 诸宫 泰华 丫丫 炼药 黄罗 岩崖 三二里 罔知所措 真武 地角 猿啼 敛迹 显耀 私设 安排 却是 存储空间 竞秀 六七里 数句 仙乐 口诵 千峰 姓字 锤击 黄金 不是 里面 早奏 悉皆 焚起 草铺 刺刺 本宫 大小 官朝贺 驱驰 圣堂 阴阴 下去 张天师 鸣钟 有界 血盆 游山 泥墙 冥冥 楔子 剑戟 金钟 志诚 明眸皓齿 显化 老祖 道术 过处 上半天 施耐庵 涂炭 霄汉 三十余年 龙体 驿馆 翠柏 绿毛 对儿 三官 字牌 伏望 金书 子子孙孙 刺配 宝盖 大顶 潮头 日夕 移步 山内 山嘴 虎山 叠翠 叫苦不迭 寻见 大排 稳便 这个 服务 文彦博 炉边 虎啸 身上 疑是 俱备 法旨 试看 羽扇 名花 莎草 一条 伤损 一柱 并提 正是 数声 轻慢 心中 卷帘 夜宿 紫微 不睬 傍边 共工 税赋 苍松 特遣 麻鞋 草庵 泥里 腿软 准奏 壁厢 迎送 晚风 退朝 吹笛 本山 愚意 登程 一似 山边 迸出 耿耿 瑞气 贵溪 玉女 驱邪 披发 苍猿 其实 大小官员 宫前 经传 下来 十五个 那道士 蓑衣 掘开 宫观 潜藏 三十六个 提点 香花 日影 三清 鳞甲 荡荡 龙虎 三十二 人迹 屈曲 范仲淹 忠良 有伤 叵耐 铁锤 今天 小说网 幽冥 撞倒 呵呵大笑 识得 御驾 垂柳 八九 不周 黑气 福分 金殿 天心 昂首 神鬼 地穴 宋仁宗 天尊 金字 万丈 红尘 青松 电光 山崩 山腰 亿万 倦怠 宴饮 彩霞 凑巧 听闻 灵验 临朝 藤萝 草鞋 偷眼 二十八宿 滴水 吹响 陷在 气喘 先祖 谷口 九天 悬空 山村 清高 约莫 说谎 比及 十数个 几个 上传 御笔 四边 水浒传 两班 老君 毒虫 黑洞洞 小道 厮打 三下 掩映 参知政事 笛声 青石板 大书 飘飘 何妨 乐声 荡漾 叮咛 那个 你们 翰林学士 阴森 后山 千人 魂魄 十数 门道 中风 并力 撇下 国师 灯烛 猛兽 教人 两扇 猛虎 有声 叫苦 随着 锦衣 辞别 树梢 诚心 狰狞 太阳光 一席 筵宴 良民 走一遭 怪事 参政 锦绣 脊梁 早间 景致 依稀 黑烟 目今 走不动 两枚 赦免 公鸡 一领 遇着 始皇 发声 如常 高人 青衣 击鼓 天书 吹得 多路 笑吟吟 力士 树根 丹墀 管待 闻知 推倒 出世 版权 恁地 霹雳 今番 路途 之书 钦差 前排 咆哮 数个 全然 引路 一朝 冷气 缘由 骏马 一溜 深浅 下到 起居 侍从 前代 年幼 大帝 悠悠 双目 众位 如若 两腿 伤人 香炉 一遭 去路 崎岖 伏侍 快快 沐浴 石板 怎敢 省得 骑着 兀自 正欲 丛中 未了 受苦 倒挂 惧怕 不识 四面八方 大内 天使 礼拜 潜入 全集 三点 尽是 计议 踪迹 钱塘江 尘埃 水陆 惭愧 无礼 出没 道人 罪犯 报知 焚烧 有如 行至 金丝 肚里 北极 二来 隐居 出海 踌躇 大唐 把门 一盏 错过 翰林院 麻木 腰间 闪电 存储'"
      ]
     },
     "execution_count": 148,
     "metadata": {},
     "output_type": "execute_result"
    }
   ],
   "source": [
    "vorc[0]"
   ]
  },
  {
   "cell_type": "code",
   "execution_count": null,
   "metadata": {},
   "outputs": [],
   "source": []
  },
  {
   "cell_type": "code",
   "execution_count": 149,
   "metadata": {},
   "outputs": [],
   "source": [
    "from  sklearn.feature_extraction.text import CountVectorizer\n",
    "vertorizer = CountVectorizer(max_features=5000)\n",
    "train_data_features = vertorizer.fit_transform(vorc)"
   ]
  },
  {
   "cell_type": "code",
   "execution_count": 150,
   "metadata": {},
   "outputs": [],
   "source": [
    "train_data_features = train_data_features.toarray()"
   ]
  },
  {
   "cell_type": "code",
   "execution_count": 151,
   "metadata": {},
   "outputs": [
    {
     "data": {
      "text/plain": [
       "(112, 5000)"
      ]
     },
     "execution_count": 151,
     "metadata": {},
     "output_type": "execute_result"
    }
   ],
   "source": [
    "train_data_features.shape"
   ]
  },
  {
   "cell_type": "code",
   "execution_count": 152,
   "metadata": {},
   "outputs": [],
   "source": [
    "from sklearn.cluster import KMeans"
   ]
  },
  {
   "cell_type": "code",
   "execution_count": 159,
   "metadata": {},
   "outputs": [
    {
     "name": "stdout",
     "output_type": "stream",
     "text": [
      "[4 3 3 3 3 3 3 3 3 3 0 4 1 4 3 4 0 0 4 4 3 3 0 3 3 3 3 3 3 3 3 3 4 4 4 0 0\n",
      " 3 3 4 4 0 0 0 3 3 4 4 0 4 4 4 4 1 1 4 2 1 4 2 4 4 2 1 3 4 1 2 4 1 2 2 4 3\n",
      " 4 4 2 1 1 1 1 4 1 1 1 1 1 1 1 1 1 1 1 2 1 1 1 1 1 1 1 1 1 2 1 1 1 1 1 1 1\n",
      " 1]\n"
     ]
    },
    {
     "data": {
      "text/plain": [
       "[<matplotlib.lines.Line2D at 0x1a30270908>]"
      ]
     },
     "execution_count": 159,
     "metadata": {},
     "output_type": "execute_result"
    },
    {
     "data": {
      "image/png": "[encoded data removed]",
      "text/plain": [
       "<matplotlib.figure.Figure at 0x1a2f8625c0>"
      ]
     },
     "metadata": {},
     "output_type": "display_data"
    }
   ],
   "source": [
    "cluster = 5\n",
    "kmeans = KMeans(n_clusters=cluster, random_state=0).fit(train_data_features[0:120])\n",
    "print(kmeans.labels_)\n",
    "X = range(1, len(train_data_features) + 1)\n",
    "Y = kmeans.labels_\n",
    "plt.plot(X, Y, \"o\")\n",
    "plt.plot([83,83], [0, cluster], \"-\")"
   ]
  },
  {
   "cell_type": "code",
   "execution_count": null,
   "metadata": {},
   "outputs": [],
   "source": []
  },
  {
   "cell_type": "code",
   "execution_count": null,
   "metadata": {},
   "outputs": [],
   "source": []
  }
 ],
 "metadata": {
  "kernelspec": {
   "display_name": "Python 3",
   "language": "python",
   "name": "python3"
  },
  "language_info": {
   "codemirror_mode": {
    "name": "ipython",
    "version": 3
   },
   "file_extension": ".py",
   "mimetype": "text/x-python",
   "name": "python",
   "nbconvert_exporter": "python",
   "pygments_lexer": "ipython3",
   "version": "3.6.4"
  }
 },
 "nbformat": 4,
 "nbformat_minor": 2
}
