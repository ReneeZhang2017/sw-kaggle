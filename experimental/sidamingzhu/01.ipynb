{
 "cells": [
  {
   "cell_type": "code",
   "execution_count": 248,
   "metadata": {},
   "outputs": [],
   "source": [
    "import os\n",
    "import numpy as np\n",
    "import pandas as pd\n",
    "import re\n",
    "import sys  \n",
    "import matplotlib.pyplot as plt"
   ]
  },
  {
   "cell_type": "markdown",
   "metadata": {},
   "source": [
    "### 将txt保存为csv"
   ]
  },
  {
   "cell_type": "code",
   "execution_count": 249,
   "metadata": {},
   "outputs": [],
   "source": [
    "# def text2csv():\n",
    "#     with open(\"./datasets/hongloumeng.txt\", \"r\") as f:\n",
    "#         text = f.read()\n",
    "#     reg = \"第[一二三四五六七八九十百]+回\"\n",
    "#     l = re.split(reg, text)\n",
    "#     l = [i  for i in l if len(i) > 200]\n",
    "#     index = range(1, 121)\n",
    "#     result = pd.DataFrame({\n",
    "#         \"id\":index,\n",
    "#         \"text\":l\n",
    "#     })\n",
    "#     result.to_csv('./datasets/hongloumeng.csv', index=False)\n",
    "# text2csv()"
   ]
  },
  {
   "cell_type": "code",
   "execution_count": 250,
   "metadata": {},
   "outputs": [],
   "source": [
    "# def text2csv():\n",
    "#     with open(\"./datasets/shuihuzhuan.txt\", \"r\") as f:\n",
    "#         text = f.read()\n",
    "#     reg = \"第[一二三四五六七八九十百]+回\"\n",
    "#     l = re.split(reg, text)\n",
    "#     l = [i  for i in l if len(i) > 200]\n",
    "#     print(len(l))\n",
    "#     index = range(1, len(l)+ 1)\n",
    "#     result = pd.DataFrame({\n",
    "#         \"id\":index,\n",
    "#         \"text\":l\n",
    "#     })\n",
    "#     result.to_csv('./datasets/shuihuzhuan.csv', index=False)\n",
    "# text2csv()"
   ]
  },
  {
   "cell_type": "code",
   "execution_count": 251,
   "metadata": {},
   "outputs": [],
   "source": [
    "text = pd.read_csv(\"./datasets/hongloumeng.csv\")"
   ]
  },
  {
   "cell_type": "code",
   "execution_count": 252,
   "metadata": {},
   "outputs": [],
   "source": [
    "import jieba\n",
    "import jieba.analyse"
   ]
  },
  {
   "cell_type": "code",
   "execution_count": 253,
   "metadata": {},
   "outputs": [],
   "source": [
    "vorc = [jieba.analyse.extract_tags(i, topK=1000) for i in text[\"text\"]]\n",
    "vorc = [\" \".join(i) for i in vorc]"
   ]
  },
  {
   "cell_type": "code",
   "execution_count": 254,
   "metadata": {},
   "outputs": [
    {
     "data": {
      "text/plain": [
       "'士隐 雨村 道人 那僧 那僧道 丫鬟 蠢物 世人 封肃 英莲 弟子 红尘 下世 那道人 意欲 一段 空空 不知 神仙 二人 故事 甄家 风流 风月 那僧笑 忘不了 此石 补天 无材 一僧 仙师 满纸 有个 警幻 自谓 这日 凡心 甄士隐 朝代 女子 石头记 贾雨村 富贵 入世 忽见 原来 小童 仙子 历来 不过 如此 安身 不觉 家人 晚生 石头 年纪 而已 功名 再者 离合悲欢 何方 心中 明白 神瑛侍者 卖字 只得 如今 便是 六千五百 来历 了结 女儿 几个 老先生 因见 粗蠢 适闻 之德 这石 知是 之族 适趣 子建 有处 永昼 珠草 罕闻 一闻 因笑 看时 街前 方欲 口内念 心下 时飞 中来 之句 二字 因思 霍启 你解 解得切 说些 不尽 文君 有些 跛足 葫芦 书房 青埂峰 一块 无稽 二仙 太虚幻境 可贺 些须 小解 岳丈 不可 只有 不惑 灌溉 折变 善哉 有意 半世 便携 封氏 未闻 说道 和尚 不可胜数 何敢 一日 回来 一绝 昌明 田庄 投胎 野史 闺阁 自便 仕宦 不曾 太爷 之事 佳节 其中 言词 美玉 荣华富贵 趁此 解闷 父母 儿孙 过去 谈笑 冤家 进去 起身 甘露 衣食 一道 风尘 黄道 团圆 早已 知己 街坊 抱负 玄机 啼哭 荒山 日日 字迹 趣味 人氏 失落 听见 自己 之苦 只是 出来 长叹 及至 三万 施礼 经历 诗词 中秋 只见 踪影 一二 幸而 荒唐 此案 隔壁 前人 进京 繁华 不能 大半 一味 传奇 半夜 想来 日夜 一声 问世 于是 不敢 何不 自然 正当 那里 可比 走来 窗外 人间 大叫 先是 我家 夫妇 鲜明 致使 不免 一轮 至此 他们 分明 日后 静极思动 安身乐业 炎凉世态 屠毒笔墨 谋虚逐妄 父慈子孝 石上书 沉伦 向士隐 烟消火灭 红日三竿 寄足 元霄 牵五挂四 贫病交攻 鹑衣 宿慧 膏梁 烟花巷 访寻 一夜 当下 家中 门前 罢了 之地 商议 那边 地方 主人 二十四丈 踮脚 石兄 佳人才子 称功颂德 荒唐言 明礼义 风流冤孽 贾名化 蟾光 终朝 姣妻 一大 之际 不禁 为何 悲号 乐极悲生 可佩 一辙 喜看 眷眷 谈情 辛酸泪 偷香窃玉 严老爷 孺人 鼠窃狗偷 现成话 快手 俄而 渐渐 回头 每日 虽近 炼石补天 自经 玄幻 编述 又有何难 亲闻 脂砚斋 述记 情痴 跳出火坑 山崩地陷 粉妆玉琢 销号 三五句 求善 雕梁 乱烘烘 两个 两次 一看 不见 妻子 丰神 诗礼 拘于 讪谤 千部 喷饭 章回 甲戌 洗耳 逢时 久居人下 荒冢 彻悟 作嫁衣裳 封氏闻 后面 因此 东南 歪诗 大旨 半百 罕事 落尘 通灵宝玉 另具 箫管 还有 识通灵 方使 阅者 高经 方经 皇氏 便弃 此山 煅炼 已通 石俱得 自叹 嗟悼 俄见 骨格 迥别 至峰 坐于 石边 快论 雾海 享一享 自恨 慕之 稍通 况见 二师 形道体 之材 济人 如蒙发 慈心 得入 场中 受享 自当永佩 字紧 非物换 万境 归空 已炽 听得进 乃复 乃叹 之数 质蠢 贵之处 大施 待劫 终之日 好否 书符 莹洁 那僧托于 使人 奇物 之邦 乡去 乃问 奇处 到何 便袖 何舍 几劫 因有 访道 幻形 携入 枉入 若许 此系 身前 身后事 记去 作奇传 诗后 无考 大忠理 善政 或情 或小才 微善 无班姑 蔡女 之德能 我师 何太痴 若云 师竟 借汉 唐等 添缀 套者 只取 理治之书者 闲文者 君相 贬人 污臭 涉于 淫滥 赋来 故假 名姓 必旁 拨乱 且鬟 即者 之乎 非文 即理 之话 破闷 熟话 供酒 蹑迹 徒为 之目 反失 今之人 贫者 富者 稍闲 贪淫 恋色 寻愁 那理治之书 道妙 检读 卧之时 一玩 岂不省 筋力 胡牵 忽离 忽遇 熟套 旧稿 我师意 指奸 责佞 贬恶 之语 伤时 世之旨 君仁臣良 所关 实非 别书 假拟 妄称 邀艳约 私订 偷盟 因空 见色 由色 生情 入色 自色 情僧 情僧录 玉峰题 东鲁孔 梅溪则题 悼红轩 纂成 并题 谁解 抄阅 再评 出则 既明 石上 有城 门者 街内 仁清巷 巷内 呼作 甄名费 字士 嫡妻 为念 只以 观花 为乐 无儿 士隐于 手倦 拋书 几少憩 梦至 不辨 那厢来 行且 何往 这一干 造劫 日以 得久延 既受 草胎 得换 女体 游于 饥则 食蜜 渴则 灌愁 故其五内 偶炽 乘此 朝世 造历 幻缘 案前 未偿 那绛珠 之惠 无此 果是 还泪 传其 中一饮 一食 总未 暗约 一干人 度脱 正合吾意 然犹未 系何 相问 士隐因 所谈 愚浊 若蒙大开 备细 稍能 警省 预泄者 预泄 适云 一见否 士隐接 便强 竟过 真时 真亦假 所梦之事 奶母 士隐见 怀内 过会 那道 无运 之物 怀内作 撤身 惯养 娇生 空对 好防 各干 人必 该试 这士 隐正 痴想 穷儒 雨村者 原系 已尽 衰丧 再整 自前 暂寄庙 故士 隐常 村见 伫望 适因 作耍 正妙 小斋 一谈 消此 村来 献茶 方谈 士隐慌得 驾之罪 弟即 乃常造 之客 已出 雨村且 撷花 窗内 旧服 贫窘 然生 背厚 面阔 口方 星眼 直鼻权 他定 必非久 困之人 留饭 久待 既散 知雨村 已毕 步月 至庙 邀雨村 之婢 频添 敛额 行去 自顾风 前影 玉人楼 雨村吟 思及 苦未 搔首 对天 复高吟 一联云 玉在 匮中 内待 兄真 偶吟 狂诞 因问 何兴 俗谓 之节 尊兄 旅寄僧 故特具 邀兄 可纳芹 意否 既蒙 拂此 同士 隐复 美酒佳肴 款斟漫 次渐 谈至兴 凝辉 愈添 酒到 狂兴 寓怀 光护玉栏 每谓 兄必非 今所吟 之兆已 可接 履于 乃亲 因干过 若论 非赖 早言 愚久 每遇 兄时 愚故 还识 喜明 兄宜 作速入 春闱 余事 弟自 不枉兄 谬识 即命 速封 之期 兄可即 买舟 明冬 再晤 大快 银衣 略谢 已交三鼓 方散 送雨村 回房 方醒 使雨村 投谒 因使 请时 贾爷 五鼓 总以 面辞 闲处 易过 士隐命 霍启抱 英莲去 因要 霍启直 那士 只生 士隐先 女构 中炸供 火逸 此方 木壁者 那火 直烧 熄去 急得士 隐惟 偏值 鼠盗 抢田夺 民不 投他 家去 本贯 大如州 今见 随分 薄置 半哄半 他些 朽屋 越觉 等语 士隐知 投人 惊唬 怨痛 已伤 挣挫 落脱 麻屣 只恨 聚无多 眼闭 君死 随人 士隐本 解注 空堂 满床 绿纱 粉正香 成霜 陇头 帐底 金满箱 银满箱 展眼 人皆谤 正叹 那知 因嫌 昨怜 破袄 今嫌 蟒长 方唱 反认 烘动 遣人 那讨 买线 隐在 军牢 乌帽 猩袍 倒发 自思 这官 打得门响 人乱 差人来 有何 上面 尚未 新闻 自怨 高谈 好事多磨 几世 亲睹 消愁 乱扯 历世 烈日炎炎 倚门 豪兴 已有 近日 作者 闺秀 瞬息间 块石 披阅 胡州 恰值 飞彩 薄田 好吃懒做 保不定 一时 一件 众人 苦求 无奇 方妙 潘安 宝鉴 酌酒 癞头 万姓 充数 沽名 陋室 强梁 家庭 进来 洪恩 扇坠 不近情理 炎夏 酬报 蓬头 菱花 小酌 无奈何 这样 此时 不足 利物 隆盛 好货 青果 翻弄 义利 人前人后 温柔乡 憨笑 悉皆 小玉 离恨 弦歌 云霓 发卖 问道 一个 万劫 勾出 剑眉 中秋佳节 妙哉 结满 一片 特多 想定 一家 下去 传情 十二钗 巨眼 盘费 簪缨 花柳 陈迹 大贤 情诗 三生石 劫后 三生 稼穑 父亲 见礼 穿凿 伦常 一面之缘 请便 竹篱 正浓 拍掌 渺渺 贤愚 会齐 冬衣 依恃 真传 不知所云 幻境 假作 劫数 衰草 蛛丝 闲情 风流人物 石牌坊 末世 时世 增删 贤淑 禀性 色鬼 疯疯癫癫 自忖 剿捕 顽石 幻术 缩成 莫如 窄狭 传述 褴褛 时逢 跌足 面善 西子 代书 避世 修竹 无措 今宵 承望 什么 暮年 全备 通共 雄飞 黑道 情性 恬淡 仪容 天外 神京'"
      ]
     },
     "execution_count": 254,
     "metadata": {},
     "output_type": "execute_result"
    }
   ],
   "source": [
    "vorc[0]"
   ]
  },
  {
   "cell_type": "code",
   "execution_count": null,
   "metadata": {},
   "outputs": [],
   "source": []
  },
  {
   "cell_type": "code",
   "execution_count": 255,
   "metadata": {},
   "outputs": [],
   "source": [
    "from  sklearn.feature_extraction.text import CountVectorizer\n",
    "vertorizer = CountVectorizer(max_features=5000)\n",
    "train_data_features = vertorizer.fit_transform(vorc)"
   ]
  },
  {
   "cell_type": "code",
   "execution_count": 256,
   "metadata": {},
   "outputs": [],
   "source": [
    "train_data_features = train_data_features.toarray()"
   ]
  },
  {
   "cell_type": "code",
   "execution_count": 257,
   "metadata": {},
   "outputs": [
    {
     "data": {
      "text/plain": [
       "(120, 5000)"
      ]
     },
     "execution_count": 257,
     "metadata": {},
     "output_type": "execute_result"
    }
   ],
   "source": [
    "train_data_features.shape"
   ]
  },
  {
   "cell_type": "code",
   "execution_count": 258,
   "metadata": {},
   "outputs": [],
   "source": [
    "from sklearn.cluster import KMeans"
   ]
  },
  {
   "cell_type": "code",
   "execution_count": 263,
   "metadata": {},
   "outputs": [
    {
     "name": "stdout",
     "output_type": "stream",
     "text": [
      "[1 1 1 1 1 1 1 1 1 1 1 1 1 1 1 1 1 1 1 1 1 1 1 1 1 1 1 1 1 1 1 1 1 1 1 1 1\n",
      " 1 1 1 1 1 1 1 1 1 1 1 1 1 1 1 1 1 1 1 1 1 1 1 1 1 1 1 1 1 1 1 1 1 1 1 1 1\n",
      " 1 1 1 1 1 1 0 0 0 0 0 0 0 0 0 0 0 0 0 0 0 0 0 0 0 0 0 0 0 0 0 0 0 0 0 0 0\n",
      " 0 0 0 0 0 0 0 0 0]\n"
     ]
    },
    {
     "data": {
      "text/plain": [
       "[<matplotlib.lines.Line2D at 0x1a34c28d68>]"
      ]
     },
     "execution_count": 263,
     "metadata": {},
     "output_type": "execute_result"
    },
    {
     "data": {
      "image/png": "[encoded data removed]",
      "text/plain": [
       "<matplotlib.figure.Figure at 0x1a31a39ef0>"
      ]
     },
     "metadata": {},
     "output_type": "display_data"
    }
   ],
   "source": [
    "\n",
    "kmeans = KMeans(n_clusters=2, random_state=0).fit(train_data_features[0:120])\n",
    "print(kmeans.labels_)\n",
    "X = range(1, len(train_data_features) + 1)\n",
    "Y = kmeans.labels_\n",
    "plt.plot(X, Y, \"o\")\n",
    "plt.plot([83,83], [0, cluster], \"-\")"
   ]
  },
  {
   "cell_type": "code",
   "execution_count": 262,
   "metadata": {},
   "outputs": [
    {
     "data": {
      "image/png": "[encoded data removed]",
      "text/plain": [
       "<matplotlib.figure.Figure at 0x1a33fb9c88>"
      ]
     },
     "metadata": {},
     "output_type": "display_data"
    }
   ],
   "source": [
    "cluster = 8\n",
    "f = plt.figure(figsize=(20, 5))\n",
    "for i in range(2, cluster + 1):\n",
    "    subplot = \"1\" + str(cluster) + str(i)\n",
    "    kmeans = KMeans(n_clusters=i, random_state=0).fit(train_data_features[0:120])\n",
    "#     print(kmeans.labels_)\n",
    "    X = range(1, len(train_data_features) + 1)\n",
    "    Y = kmeans.labels_\n",
    "    ax = f.add_subplot(subplot)\n",
    "#     plt.subplot(subplot)\n",
    "    plt.plot(X, Y, \"o\")\n",
    "    plt.plot([83,83], [0, cluster], \"-\")\n",
    "#     plt.subplot()"
   ]
  },
  {
   "cell_type": "code",
   "execution_count": null,
   "metadata": {},
   "outputs": [],
   "source": []
  }
 ],
 "metadata": {
  "kernelspec": {
   "display_name": "Python 3",
   "language": "python",
   "name": "python3"
  },
  "language_info": {
   "codemirror_mode": {
    "name": "ipython",
    "version": 3
   },
   "file_extension": ".py",
   "mimetype": "text/x-python",
   "name": "python",
   "nbconvert_exporter": "python",
   "pygments_lexer": "ipython3",
   "version": "3.6.4"
  }
 },
 "nbformat": 4,
 "nbformat_minor": 2
}
