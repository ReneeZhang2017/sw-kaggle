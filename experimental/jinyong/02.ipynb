{
 "cells": [
  {
   "cell_type": "code",
   "execution_count": 53,
   "metadata": {},
   "outputs": [],
   "source": [
    "import os\n",
    "import numpy as np\n",
    "import pandas as pd\n",
    "import re\n",
    "import sys  \n",
    "import matplotlib.pyplot as plt"
   ]
  },
  {
   "cell_type": "code",
   "execution_count": 150,
   "metadata": {},
   "outputs": [],
   "source": [
    "# 停用词\n",
    "# with open(\"./datasets/chinese_stopwrods.txt\") as f:\n",
    "#     text = f.read()\n",
    "#     text = text.split(\"\\n\")\n",
    "# #     text = [i for i in text ]\n",
    "#     result = pd.DataFrame({\n",
    "#         \"words\":text\n",
    "#     })\n",
    "#     result.to_csv(\"./datasets/chinese_stopwrods.csv\", index=False)"
   ]
  },
  {
   "cell_type": "code",
   "execution_count": 151,
   "metadata": {},
   "outputs": [],
   "source": [
    "def text2csv():\n",
    "    with open(\"./datasets/yitiantulongji.txt\", \"r\") as f:\n",
    "        text = f.read()\n",
    "    reg = \"第[一二三四五六七八九十百]+章\"\n",
    "    l = re.split(reg, text)\n",
    "    l = [i  for i in l if len(i) > 500]\n",
    "    index = range(len(l))\n",
    "    result = pd.DataFrame({\n",
    "        \"id\":index,\n",
    "        \"text\":l\n",
    "    })\n",
    "    result.to_csv('./datasets/yitiantulongji.csv', index=False)\n",
    "text2csv()"
   ]
  },
  {
   "cell_type": "code",
   "execution_count": 152,
   "metadata": {},
   "outputs": [],
   "source": [
    "#     with open(\"./datasets/yitiantulongji.txt\", \"r\") as f:\n",
    "#         text = f.read()\n",
    "#         v = jieba.analyse.extract_tags(text, topK=200, withWeight=True)"
   ]
  },
  {
   "cell_type": "code",
   "execution_count": null,
   "metadata": {},
   "outputs": [],
   "source": []
  },
  {
   "cell_type": "code",
   "execution_count": 153,
   "metadata": {},
   "outputs": [],
   "source": [
    "text = pd.read_csv(\"./datasets/yitiantulongji.csv\")"
   ]
  },
  {
   "cell_type": "code",
   "execution_count": 154,
   "metadata": {},
   "outputs": [
    {
     "data": {
      "text/plain": [
       "(40, 2)"
      ]
     },
     "execution_count": 154,
     "metadata": {},
     "output_type": "execute_result"
    }
   ],
   "source": [
    "text.shape"
   ]
  },
  {
   "cell_type": "code",
   "execution_count": 271,
   "metadata": {},
   "outputs": [],
   "source": [
    "stop_words = pd.read_csv(\"./datasets/chinese_stopwrods.csv\")\n",
    "punctuation = ['', \"，\", \"。\", \"\\t\", \"\\n\", \"(\",\")\", \"！\",\n",
    "               \"《\", \"》\", \"：\", \"？\", \"“\", \"”\",\"、\", \"·\", \"…\",\"`\", \".\"]\n",
    "stop_words =  punctuation + list(stop_words[\"words\"])"
   ]
  },
  {
   "cell_type": "code",
   "execution_count": 272,
   "metadata": {},
   "outputs": [],
   "source": [
    "# stop_words"
   ]
  },
  {
   "cell_type": "code",
   "execution_count": 125,
   "metadata": {},
   "outputs": [],
   "source": [
    "import jieba\n",
    "import jieba.analyse"
   ]
  },
  {
   "cell_type": "code",
   "execution_count": 438,
   "metadata": {},
   "outputs": [],
   "source": [
    "vorc = [jieba.analyse.extract_tags(i, topK=2000) for i in text[\"text\"]]\n",
    "vorc = [\" \".join(i) for i in vorc]"
   ]
  },
  {
   "cell_type": "code",
   "execution_count": null,
   "metadata": {},
   "outputs": [],
   "source": []
  },
  {
   "cell_type": "code",
   "execution_count": 267,
   "metadata": {},
   "outputs": [],
   "source": [
    "# 去除停用词和标点符号\n",
    "def clean_text(string):\n",
    "    temp = re.split(\"[\\n, ,  ]\", string)\n",
    "    temp = [i.strip() for i in temp if i not in stop_words]\n",
    "    return \" \".join(temp)"
   ]
  },
  {
   "cell_type": "code",
   "execution_count": null,
   "metadata": {},
   "outputs": [],
   "source": []
  },
  {
   "cell_type": "code",
   "execution_count": null,
   "metadata": {},
   "outputs": [],
   "source": []
  },
  {
   "cell_type": "code",
   "execution_count": 442,
   "metadata": {},
   "outputs": [],
   "source": [
    "from gensim.models import word2vec"
   ]
  },
  {
   "cell_type": "code",
   "execution_count": null,
   "metadata": {},
   "outputs": [],
   "source": []
  },
  {
   "cell_type": "code",
   "execution_count": 444,
   "metadata": {},
   "outputs": [
    {
     "name": "stdout",
     "output_type": "stream",
     "text": [
      "Training model...\n"
     ]
    }
   ],
   "source": [
    "print(\"Training model...\")\n",
    "model = word2vec.Word2Vec(vorc,size=2000)\n",
    "# model.init_sims(replace=True)"
   ]
  },
  {
   "cell_type": "code",
   "execution_count": null,
   "metadata": {},
   "outputs": [],
   "source": []
  },
  {
   "cell_type": "code",
   "execution_count": null,
   "metadata": {},
   "outputs": [],
   "source": []
  }
 ],
 "metadata": {
  "kernelspec": {
   "display_name": "Python 3",
   "language": "python",
   "name": "python3"
  },
  "language_info": {
   "codemirror_mode": {
    "name": "ipython",
    "version": 3
   },
   "file_extension": ".py",
   "mimetype": "text/x-python",
   "name": "python",
   "nbconvert_exporter": "python",
   "pygments_lexer": "ipython3",
   "version": "3.6.4"
  }
 },
 "nbformat": 4,
 "nbformat_minor": 2
}
