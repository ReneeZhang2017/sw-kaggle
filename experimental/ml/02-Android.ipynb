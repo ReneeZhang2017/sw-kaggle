{
 "cells": [
  {
   "cell_type": "code",
   "execution_count": 31,
   "metadata": {},
   "outputs": [],
   "source": [
    "import pandas as pd\n",
    "import numpy as np\n",
    "import seaborn as sns"
   ]
  },
  {
   "cell_type": "code",
   "execution_count": 16,
   "metadata": {},
   "outputs": [],
   "source": [
    "train = pd.read_csv('./boss/all_android.csv')"
   ]
  },
  {
   "cell_type": "code",
   "execution_count": 17,
   "metadata": {},
   "outputs": [
    {
     "data": {
      "text/html": [
       "<div>\n",
       "<style scoped>\n",
       "    .dataframe tbody tr th:only-of-type {\n",
       "        vertical-align: middle;\n",
       "    }\n",
       "\n",
       "    .dataframe tbody tr th {\n",
       "        vertical-align: top;\n",
       "    }\n",
       "\n",
       "    .dataframe thead th {\n",
       "        text-align: right;\n",
       "    }\n",
       "</style>\n",
       "<table border=\"1\" class=\"dataframe\">\n",
       "  <thead>\n",
       "    <tr style=\"text-align: right;\">\n",
       "      <th></th>\n",
       "      <th>company</th>\n",
       "      <th>education</th>\n",
       "      <th>experience</th>\n",
       "      <th>location</th>\n",
       "      <th>position</th>\n",
       "      <th>salary</th>\n",
       "    </tr>\n",
       "  </thead>\n",
       "  <tbody>\n",
       "    <tr>\n",
       "      <th>count</th>\n",
       "      <td>1650</td>\n",
       "      <td>1650</td>\n",
       "      <td>1650</td>\n",
       "      <td>1650</td>\n",
       "      <td>1650</td>\n",
       "      <td>1650</td>\n",
       "    </tr>\n",
       "    <tr>\n",
       "      <th>unique</th>\n",
       "      <td>1108</td>\n",
       "      <td>6</td>\n",
       "      <td>7</td>\n",
       "      <td>5</td>\n",
       "      <td>690</td>\n",
       "      <td>149</td>\n",
       "    </tr>\n",
       "    <tr>\n",
       "      <th>top</th>\n",
       "      <td>今日头条</td>\n",
       "      <td>本科</td>\n",
       "      <td>3-5年</td>\n",
       "      <td>北京</td>\n",
       "      <td>Android开发工程师</td>\n",
       "      <td>10k-20k</td>\n",
       "    </tr>\n",
       "    <tr>\n",
       "      <th>freq</th>\n",
       "      <td>19</td>\n",
       "      <td>994</td>\n",
       "      <td>671</td>\n",
       "      <td>330</td>\n",
       "      <td>188</td>\n",
       "      <td>163</td>\n",
       "    </tr>\n",
       "  </tbody>\n",
       "</table>\n",
       "</div>"
      ],
      "text/plain": [
       "       company education experience location      position   salary\n",
       "count     1650      1650       1650     1650          1650     1650\n",
       "unique    1108         6          7        5           690      149\n",
       "top       今日头条        本科       3-5年       北京  Android开发工程师  10k-20k\n",
       "freq        19       994        671      330           188      163"
      ]
     },
     "execution_count": 17,
     "metadata": {},
     "output_type": "execute_result"
    }
   ],
   "source": [
    "train.describe()"
   ]
  },
  {
   "cell_type": "code",
   "execution_count": 18,
   "metadata": {},
   "outputs": [
    {
     "data": {
      "text/html": [
       "<div>\n",
       "<style scoped>\n",
       "    .dataframe tbody tr th:only-of-type {\n",
       "        vertical-align: middle;\n",
       "    }\n",
       "\n",
       "    .dataframe tbody tr th {\n",
       "        vertical-align: top;\n",
       "    }\n",
       "\n",
       "    .dataframe thead th {\n",
       "        text-align: right;\n",
       "    }\n",
       "</style>\n",
       "<table border=\"1\" class=\"dataframe\">\n",
       "  <thead>\n",
       "    <tr style=\"text-align: right;\">\n",
       "      <th></th>\n",
       "      <th>company</th>\n",
       "      <th>education</th>\n",
       "      <th>experience</th>\n",
       "      <th>location</th>\n",
       "      <th>position</th>\n",
       "      <th>salary</th>\n",
       "    </tr>\n",
       "  </thead>\n",
       "  <tbody>\n",
       "    <tr>\n",
       "      <th>0</th>\n",
       "      <td>火豹科技</td>\n",
       "      <td>大专</td>\n",
       "      <td>1-3年</td>\n",
       "      <td>广州</td>\n",
       "      <td>安卓开发工程师</td>\n",
       "      <td>6k-10k</td>\n",
       "    </tr>\n",
       "    <tr>\n",
       "      <th>1</th>\n",
       "      <td>PPmoney万惠</td>\n",
       "      <td>本科</td>\n",
       "      <td>1-3年</td>\n",
       "      <td>广州</td>\n",
       "      <td>Android工程师</td>\n",
       "      <td>12k-18k</td>\n",
       "    </tr>\n",
       "    <tr>\n",
       "      <th>2</th>\n",
       "      <td>广州诺特软件开发...</td>\n",
       "      <td>本科</td>\n",
       "      <td>3-5年</td>\n",
       "      <td>广州</td>\n",
       "      <td>高级Android开发工程师</td>\n",
       "      <td>8k-13k</td>\n",
       "    </tr>\n",
       "    <tr>\n",
       "      <th>3</th>\n",
       "      <td>美至简</td>\n",
       "      <td>本科</td>\n",
       "      <td>1-3年</td>\n",
       "      <td>广州</td>\n",
       "      <td>Android研发工程师</td>\n",
       "      <td>10k-16k</td>\n",
       "    </tr>\n",
       "    <tr>\n",
       "      <th>4</th>\n",
       "      <td>百得思维</td>\n",
       "      <td>本科</td>\n",
       "      <td>3-5年</td>\n",
       "      <td>广州</td>\n",
       "      <td>Android</td>\n",
       "      <td>10k-12k</td>\n",
       "    </tr>\n",
       "  </tbody>\n",
       "</table>\n",
       "</div>"
      ],
      "text/plain": [
       "       company education experience location        position   salary\n",
       "0         火豹科技        大专       1-3年       广州         安卓开发工程师   6k-10k\n",
       "1    PPmoney万惠        本科       1-3年       广州      Android工程师  12k-18k\n",
       "2  广州诺特软件开发...        本科       3-5年       广州  高级Android开发工程师   8k-13k\n",
       "3          美至简        本科       1-3年       广州    Android研发工程师  10k-16k\n",
       "4         百得思维        本科       3-5年       广州         Android  10k-12k"
      ]
     },
     "execution_count": 18,
     "metadata": {},
     "output_type": "execute_result"
    }
   ],
   "source": [
    "train.head()"
   ]
  },
  {
   "cell_type": "code",
   "execution_count": 22,
   "metadata": {},
   "outputs": [
    {
     "data": {
      "text/plain": [
       "(488, 6)"
      ]
     },
     "execution_count": 22,
     "metadata": {},
     "output_type": "execute_result"
    }
   ],
   "source": [
    "train = train[train['position'].str.contains('Android|安卓',regex=True)]\n",
    "train = train[~train['education'].str.contains('大专',regex=True)]\n",
    "train.shape # 共计488条数据"
   ]
  },
  {
   "cell_type": "markdown",
   "metadata": {},
   "source": [
    "#### 哪些公司在招聘"
   ]
  },
  {
   "cell_type": "code",
   "execution_count": 24,
   "metadata": {},
   "outputs": [
    {
     "data": {
      "text/plain": [
       "今日头条    7\n",
       "平安好房    6\n",
       "纬创      5\n",
       "三才科技    4\n",
       "潮流网络    4\n",
       "软通动力    4\n",
       "网易      4\n",
       "六律科技    4\n",
       "泛微软件    4\n",
       "讯一佳     4\n",
       "Name: company, dtype: int64"
      ]
     },
     "execution_count": 24,
     "metadata": {},
     "output_type": "execute_result"
    }
   ],
   "source": [
    "train['company'].value_counts().head(10)"
   ]
  },
  {
   "cell_type": "code",
   "execution_count": 25,
   "metadata": {},
   "outputs": [
    {
     "data": {
      "text/plain": [
       "本科    449\n",
       "不限     35\n",
       "硕士      4\n",
       "Name: education, dtype: int64"
      ]
     },
     "execution_count": 25,
     "metadata": {},
     "output_type": "execute_result"
    }
   ],
   "source": [
    "# 教育要求\n",
    "train['education'].value_counts()"
   ]
  },
  {
   "cell_type": "code",
   "execution_count": 26,
   "metadata": {},
   "outputs": [
    {
     "data": {
      "text/plain": [
       "3-5年     218\n",
       "1-3年     181\n",
       "5-10年     35\n",
       "不限        33\n",
       "1年以内      14\n",
       "应届生        7\n",
       "Name: experience, dtype: int64"
      ]
     },
     "execution_count": 26,
     "metadata": {},
     "output_type": "execute_result"
    }
   ],
   "source": [
    "train['experience'].value_counts()"
   ]
  },
  {
   "cell_type": "code",
   "execution_count": 27,
   "metadata": {},
   "outputs": [
    {
     "data": {
      "text/plain": [
       "北京    118\n",
       "上海    107\n",
       "杭州    100\n",
       "深圳     82\n",
       "广州     81\n",
       "Name: location, dtype: int64"
      ]
     },
     "execution_count": 27,
     "metadata": {},
     "output_type": "execute_result"
    }
   ],
   "source": [
    "train['location'].value_counts()"
   ]
  },
  {
   "cell_type": "code",
   "execution_count": 36,
   "metadata": {},
   "outputs": [
    {
     "data": {
      "text/plain": [
       "Android开发工程师    115\n",
       "Android          86\n",
       "安卓开发工程师          37\n",
       "Android工程师       32\n",
       "安卓工程师            16\n",
       "Name: position, dtype: int64"
      ]
     },
     "execution_count": 36,
     "metadata": {},
     "output_type": "execute_result"
    }
   ],
   "source": [
    "train['position'].value_counts().head()"
   ]
  },
  {
   "cell_type": "code",
   "execution_count": 28,
   "metadata": {},
   "outputs": [],
   "source": [
    "salary_s = []\n",
    "for salary in train['salary']:\n",
    "    l = salary.split('-')\n",
    "    first = int(l[0][:-1])\n",
    "    second = int(l[1][:-1])\n",
    "    salary_s.append(round(first + (second - first) / 4))\n",
    "train['salary_simple'] = salary_s"
   ]
  },
  {
   "cell_type": "code",
   "execution_count": 29,
   "metadata": {},
   "outputs": [
    {
     "data": {
      "text/plain": [
       "12    71\n",
       "11    54\n",
       "10    46\n",
       "18    43\n",
       "14    43\n",
       "19    36\n",
       "9     30\n",
       "8     27\n",
       "25    16\n",
       "22    15\n",
       "Name: salary_simple, dtype: int64"
      ]
     },
     "execution_count": 29,
     "metadata": {},
     "output_type": "execute_result"
    }
   ],
   "source": [
    "salary = train['salary_simple'].value_counts()\n",
    "salary.head(10)"
   ]
  },
  {
   "cell_type": "code",
   "execution_count": 30,
   "metadata": {},
   "outputs": [],
   "source": [
    "train = train[train['salary_simple'] < 50]"
   ]
  },
  {
   "cell_type": "code",
   "execution_count": 32,
   "metadata": {},
   "outputs": [
    {
     "data": {
      "text/plain": [
       "<matplotlib.axes._subplots.AxesSubplot at 0x1a1cbc4cc0>"
      ]
     },
     "execution_count": 32,
     "metadata": {},
     "output_type": "execute_result"
    },
    {
     "data": {
      "image/png": "[encoded data removed]",
      "text/plain": [
       "<matplotlib.figure.Figure at 0x1a1cb24630>"
      ]
     },
     "metadata": {},
     "output_type": "display_data"
    }
   ],
   "source": [
    "# 相互关系\n",
    "sns.boxplot(x=\"location\", y=\"salary_simple\", data=train)"
   ]
  },
  {
   "cell_type": "code",
   "execution_count": 33,
   "metadata": {},
   "outputs": [
    {
     "data": {
      "text/plain": [
       "<matplotlib.axes._subplots.AxesSubplot at 0x1a226ba780>"
      ]
     },
     "execution_count": 33,
     "metadata": {},
     "output_type": "execute_result"
    },
    {
     "data": {
      "image/png": "[encoded data removed]",
      "text/plain": [
       "<matplotlib.figure.Figure at 0x1a1cc1c0b8>"
      ]
     },
     "metadata": {},
     "output_type": "display_data"
    }
   ],
   "source": [
    "sns.boxplot(x=\"education\", y=\"salary_simple\", data=train)"
   ]
  },
  {
   "cell_type": "code",
   "execution_count": 34,
   "metadata": {},
   "outputs": [
    {
     "data": {
      "text/plain": [
       "<matplotlib.axes._subplots.AxesSubplot at 0x1a1cc32780>"
      ]
     },
     "execution_count": 34,
     "metadata": {},
     "output_type": "execute_result"
    },
    {
     "data": {
      "image/png": "[encoded data removed]",
      "text/plain": [
       "<matplotlib.figure.Figure at 0x1a1cc1c748>"
      ]
     },
     "metadata": {},
     "output_type": "display_data"
    }
   ],
   "source": [
    "sns.boxplot(x=\"experience\", y=\"salary_simple\", data=train)"
   ]
  },
  {
   "cell_type": "code",
   "execution_count": 45,
   "metadata": {},
   "outputs": [
    {
     "data": {
      "text/plain": [
       "11.359116022099448"
      ]
     },
     "execution_count": 45,
     "metadata": {},
     "output_type": "execute_result"
    }
   ],
   "source": [
    "train[train['experience'] == '1-3年']['salary_simple'].mean()"
   ]
  },
  {
   "cell_type": "code",
   "execution_count": 47,
   "metadata": {},
   "outputs": [
    {
     "data": {
      "text/html": [
       "<div>\n",
       "<style scoped>\n",
       "    .dataframe tbody tr th:only-of-type {\n",
       "        vertical-align: middle;\n",
       "    }\n",
       "\n",
       "    .dataframe tbody tr th {\n",
       "        vertical-align: top;\n",
       "    }\n",
       "\n",
       "    .dataframe thead th {\n",
       "        text-align: right;\n",
       "    }\n",
       "</style>\n",
       "<table border=\"1\" class=\"dataframe\">\n",
       "  <thead>\n",
       "    <tr style=\"text-align: right;\">\n",
       "      <th></th>\n",
       "      <th>company</th>\n",
       "      <th>education</th>\n",
       "      <th>experience</th>\n",
       "      <th>location</th>\n",
       "      <th>position</th>\n",
       "      <th>salary</th>\n",
       "      <th>salary_simple</th>\n",
       "    </tr>\n",
       "  </thead>\n",
       "  <tbody>\n",
       "    <tr>\n",
       "      <th>255</th>\n",
       "      <td>北京京东科技</td>\n",
       "      <td>不限</td>\n",
       "      <td>5-10年</td>\n",
       "      <td>北京</td>\n",
       "      <td>Android高级工程师</td>\n",
       "      <td>30k-50k</td>\n",
       "      <td>35</td>\n",
       "    </tr>\n",
       "    <tr>\n",
       "      <th>263</th>\n",
       "      <td>借贷宝</td>\n",
       "      <td>本科</td>\n",
       "      <td>3-5年</td>\n",
       "      <td>北京</td>\n",
       "      <td>Android</td>\n",
       "      <td>30k-60k</td>\n",
       "      <td>38</td>\n",
       "    </tr>\n",
       "    <tr>\n",
       "      <th>305</th>\n",
       "      <td>璧晟科技</td>\n",
       "      <td>本科</td>\n",
       "      <td>5-10年</td>\n",
       "      <td>北京</td>\n",
       "      <td>BeTime - Android开发工程师</td>\n",
       "      <td>25k-50k</td>\n",
       "      <td>31</td>\n",
       "    </tr>\n",
       "    <tr>\n",
       "      <th>359</th>\n",
       "      <td>爱奇艺</td>\n",
       "      <td>本科</td>\n",
       "      <td>1-3年</td>\n",
       "      <td>北京</td>\n",
       "      <td>Android多媒体高级工程师</td>\n",
       "      <td>30k-50k</td>\n",
       "      <td>35</td>\n",
       "    </tr>\n",
       "    <tr>\n",
       "      <th>415</th>\n",
       "      <td>北京格物</td>\n",
       "      <td>不限</td>\n",
       "      <td>1-3年</td>\n",
       "      <td>北京</td>\n",
       "      <td>Android高级开发工程师</td>\n",
       "      <td>30k-50k</td>\n",
       "      <td>35</td>\n",
       "    </tr>\n",
       "    <tr>\n",
       "      <th>428</th>\n",
       "      <td>OKCoin</td>\n",
       "      <td>本科</td>\n",
       "      <td>3-5年</td>\n",
       "      <td>北京</td>\n",
       "      <td>资深Android开发工程师／TL</td>\n",
       "      <td>40k-75k</td>\n",
       "      <td>49</td>\n",
       "    </tr>\n",
       "    <tr>\n",
       "      <th>436</th>\n",
       "      <td>今日头条</td>\n",
       "      <td>本科</td>\n",
       "      <td>3-5年</td>\n",
       "      <td>北京</td>\n",
       "      <td>资深Android开发工程师</td>\n",
       "      <td>25k-50k</td>\n",
       "      <td>31</td>\n",
       "    </tr>\n",
       "    <tr>\n",
       "      <th>1063</th>\n",
       "      <td>运满满</td>\n",
       "      <td>不限</td>\n",
       "      <td>5-10年</td>\n",
       "      <td>上海</td>\n",
       "      <td>Android技术专家</td>\n",
       "      <td>30k-55k</td>\n",
       "      <td>36</td>\n",
       "    </tr>\n",
       "    <tr>\n",
       "      <th>1202</th>\n",
       "      <td>今日头条</td>\n",
       "      <td>本科</td>\n",
       "      <td>3-5年</td>\n",
       "      <td>上海</td>\n",
       "      <td>Android工程师（上海）</td>\n",
       "      <td>26k-50k</td>\n",
       "      <td>32</td>\n",
       "    </tr>\n",
       "    <tr>\n",
       "      <th>1474</th>\n",
       "      <td>阿里巴巴菜鸟</td>\n",
       "      <td>本科</td>\n",
       "      <td>5-10年</td>\n",
       "      <td>杭州</td>\n",
       "      <td>Android ROM系统专家</td>\n",
       "      <td>30k-40k</td>\n",
       "      <td>32</td>\n",
       "    </tr>\n",
       "  </tbody>\n",
       "</table>\n",
       "</div>"
      ],
      "text/plain": [
       "     company education experience location               position   salary  \\\n",
       "255   北京京东科技        不限      5-10年       北京           Android高级工程师  30k-50k   \n",
       "263      借贷宝        本科       3-5年       北京                Android  30k-60k   \n",
       "305     璧晟科技        本科      5-10年       北京  BeTime - Android开发工程师  25k-50k   \n",
       "359      爱奇艺        本科       1-3年       北京        Android多媒体高级工程师  30k-50k   \n",
       "415     北京格物        不限       1-3年       北京         Android高级开发工程师  30k-50k   \n",
       "428   OKCoin        本科       3-5年       北京      资深Android开发工程师／TL  40k-75k   \n",
       "436     今日头条        本科       3-5年       北京         资深Android开发工程师  25k-50k   \n",
       "1063     运满满        不限      5-10年       上海            Android技术专家  30k-55k   \n",
       "1202    今日头条        本科       3-5年       上海         Android工程师（上海）  26k-50k   \n",
       "1474  阿里巴巴菜鸟        本科      5-10年       杭州        Android ROM系统专家  30k-40k   \n",
       "\n",
       "      salary_simple  \n",
       "255              35  \n",
       "263              38  \n",
       "305              31  \n",
       "359              35  \n",
       "415              35  \n",
       "428              49  \n",
       "436              31  \n",
       "1063             36  \n",
       "1202             32  \n",
       "1474             32  "
      ]
     },
     "execution_count": 47,
     "metadata": {},
     "output_type": "execute_result"
    }
   ],
   "source": [
    "train[train['salary_simple'] > 30]"
   ]
  },
  {
   "cell_type": "code",
   "execution_count": null,
   "metadata": {},
   "outputs": [],
   "source": []
  }
 ],
 "metadata": {
  "kernelspec": {
   "display_name": "Python 3",
   "language": "python",
   "name": "python3"
  },
  "language_info": {
   "codemirror_mode": {
    "name": "ipython",
    "version": 3
   },
   "file_extension": ".py",
   "mimetype": "text/x-python",
   "name": "python",
   "nbconvert_exporter": "python",
   "pygments_lexer": "ipython3",
   "version": "3.6.4"
  }
 },
 "nbformat": 4,
 "nbformat_minor": 2
}
