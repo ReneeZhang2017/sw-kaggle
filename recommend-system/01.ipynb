{
 "cells": [
  {
   "cell_type": "code",
   "execution_count": 9,
   "metadata": {},
   "outputs": [],
   "source": [
    "import numpy as np\n",
    "import pandas as pd\n",
    "%matplotlib inline"
   ]
  },
  {
   "cell_type": "code",
   "execution_count": 10,
   "metadata": {},
   "outputs": [],
   "source": [
    "critics={'Lisa Rose': {'Lady in the Water': 2.5, 'Snakes on a Plane': 3.5,\n",
    " 'Just My Luck': 3.0, 'Superman Returns': 3.5, 'You, Me and Dupree': 2.5, \n",
    " 'The Night Listener': 3.0},\n",
    "'Gene Seymour': {'Lady in the Water': 3.0, 'Snakes on a Plane': 3.5, \n",
    " 'Just My Luck': 1.5, 'Superman Returns': 5.0, 'The Night Listener': 3.0, \n",
    " 'You, Me and Dupree': 3.5}, \n",
    "'Michael Phillips': {'Lady in the Water': 2.5, 'Snakes on a Plane': 3.0,\n",
    " 'Superman Returns': 3.5, 'The Night Listener': 4.0},\n",
    "'Claudia Puig': {'Snakes on a Plane': 3.5, 'Just My Luck': 3.0,\n",
    " 'The Night Listener': 4.5, 'Superman Returns': 4.0, \n",
    " 'You, Me and Dupree': 2.5},\n",
    "'Mick LaSalle': {'Lady in the Water': 3.0, 'Snakes on a Plane': 4.0, \n",
    " 'Just My Luck': 2.0, 'Superman Returns': 3.0, 'The Night Listener': 3.0,\n",
    " 'You, Me and Dupree': 2.0}, \n",
    "'Jack Matthews': {'Lady in the Water': 3.0, 'Snakes on a Plane': 4.0,\n",
    " 'The Night Listener': 3.0, 'Superman Returns': 5.0, 'You, Me and Dupree': 3.5},\n",
    "'Toby': {'Snakes on a Plane':4.5,'You, Me and Dupree':1.0,'Superman Returns':4.0}}\n"
   ]
  },
  {
   "cell_type": "code",
   "execution_count": 11,
   "metadata": {},
   "outputs": [],
   "source": [
    "train = pd.DataFrame(critics).T"
   ]
  },
  {
   "cell_type": "code",
   "execution_count": 12,
   "metadata": {},
   "outputs": [
    {
     "data": {
      "text/html": [
       "<div>\n",
       "<style scoped>\n",
       "    .dataframe tbody tr th:only-of-type {\n",
       "        vertical-align: middle;\n",
       "    }\n",
       "\n",
       "    .dataframe tbody tr th {\n",
       "        vertical-align: top;\n",
       "    }\n",
       "\n",
       "    .dataframe thead th {\n",
       "        text-align: right;\n",
       "    }\n",
       "</style>\n",
       "<table border=\"1\" class=\"dataframe\">\n",
       "  <thead>\n",
       "    <tr style=\"text-align: right;\">\n",
       "      <th></th>\n",
       "      <th>Just My Luck</th>\n",
       "      <th>Lady in the Water</th>\n",
       "      <th>Snakes on a Plane</th>\n",
       "      <th>Superman Returns</th>\n",
       "      <th>The Night Listener</th>\n",
       "      <th>You, Me and Dupree</th>\n",
       "    </tr>\n",
       "  </thead>\n",
       "  <tbody>\n",
       "    <tr>\n",
       "      <th>Claudia Puig</th>\n",
       "      <td>3.0</td>\n",
       "      <td>NaN</td>\n",
       "      <td>3.5</td>\n",
       "      <td>4.0</td>\n",
       "      <td>4.5</td>\n",
       "      <td>2.5</td>\n",
       "    </tr>\n",
       "    <tr>\n",
       "      <th>Gene Seymour</th>\n",
       "      <td>1.5</td>\n",
       "      <td>3.0</td>\n",
       "      <td>3.5</td>\n",
       "      <td>5.0</td>\n",
       "      <td>3.0</td>\n",
       "      <td>3.5</td>\n",
       "    </tr>\n",
       "    <tr>\n",
       "      <th>Jack Matthews</th>\n",
       "      <td>NaN</td>\n",
       "      <td>3.0</td>\n",
       "      <td>4.0</td>\n",
       "      <td>5.0</td>\n",
       "      <td>3.0</td>\n",
       "      <td>3.5</td>\n",
       "    </tr>\n",
       "    <tr>\n",
       "      <th>Lisa Rose</th>\n",
       "      <td>3.0</td>\n",
       "      <td>2.5</td>\n",
       "      <td>3.5</td>\n",
       "      <td>3.5</td>\n",
       "      <td>3.0</td>\n",
       "      <td>2.5</td>\n",
       "    </tr>\n",
       "    <tr>\n",
       "      <th>Michael Phillips</th>\n",
       "      <td>NaN</td>\n",
       "      <td>2.5</td>\n",
       "      <td>3.0</td>\n",
       "      <td>3.5</td>\n",
       "      <td>4.0</td>\n",
       "      <td>NaN</td>\n",
       "    </tr>\n",
       "    <tr>\n",
       "      <th>Mick LaSalle</th>\n",
       "      <td>2.0</td>\n",
       "      <td>3.0</td>\n",
       "      <td>4.0</td>\n",
       "      <td>3.0</td>\n",
       "      <td>3.0</td>\n",
       "      <td>2.0</td>\n",
       "    </tr>\n",
       "    <tr>\n",
       "      <th>Toby</th>\n",
       "      <td>NaN</td>\n",
       "      <td>NaN</td>\n",
       "      <td>4.5</td>\n",
       "      <td>4.0</td>\n",
       "      <td>NaN</td>\n",
       "      <td>1.0</td>\n",
       "    </tr>\n",
       "  </tbody>\n",
       "</table>\n",
       "</div>"
      ],
      "text/plain": [
       "                  Just My Luck  Lady in the Water  Snakes on a Plane  \\\n",
       "Claudia Puig               3.0                NaN                3.5   \n",
       "Gene Seymour               1.5                3.0                3.5   \n",
       "Jack Matthews              NaN                3.0                4.0   \n",
       "Lisa Rose                  3.0                2.5                3.5   \n",
       "Michael Phillips           NaN                2.5                3.0   \n",
       "Mick LaSalle               2.0                3.0                4.0   \n",
       "Toby                       NaN                NaN                4.5   \n",
       "\n",
       "                  Superman Returns  The Night Listener  You, Me and Dupree  \n",
       "Claudia Puig                   4.0                 4.5                 2.5  \n",
       "Gene Seymour                   5.0                 3.0                 3.5  \n",
       "Jack Matthews                  5.0                 3.0                 3.5  \n",
       "Lisa Rose                      3.5                 3.0                 2.5  \n",
       "Michael Phillips               3.5                 4.0                 NaN  \n",
       "Mick LaSalle                   3.0                 3.0                 2.0  \n",
       "Toby                           4.0                 NaN                 1.0  "
      ]
     },
     "execution_count": 12,
     "metadata": {},
     "output_type": "execute_result"
    }
   ],
   "source": [
    "train"
   ]
  },
  {
   "cell_type": "markdown",
   "metadata": {},
   "source": [
    "上述数据给出了7个不同的人分别对六部电影的打分情况，有部分没有过打分。  \n",
    "接下来会进行简单的协同过滤算法演示"
   ]
  },
  {
   "cell_type": "markdown",
   "metadata": {},
   "source": [
    "#### 寻找相近的用户"
   ]
  },
  {
   "cell_type": "code",
   "execution_count": 18,
   "metadata": {},
   "outputs": [
    {
     "data": {
      "text/plain": [
       "<matplotlib.axes._subplots.AxesSubplot at 0x1205d8438>"
      ]
     },
     "execution_count": 18,
     "metadata": {},
     "output_type": "execute_result"
    },
    {
     "data": {
      "image/png": "[encoded data removed]",
      "text/plain": [
       "<matplotlib.figure.Figure at 0x1205e8198>"
      ]
     },
     "metadata": {},
     "output_type": "display_data"
    }
   ],
   "source": [
    "train.plot.scatter(y='Snakes on a Plane', x='You, Me and Dupree', xlim=(0,5), ylim=(0,5))"
   ]
  },
  {
   "cell_type": "markdown",
   "metadata": {},
   "source": [
    "如上，可以看到用户之前的相似情况，两个点越近，表明用户之间的关系越相近。可以使用平方和来计算两个用户之间的相似度，值越小，表明越相近。取导数，可以从大到小排序。"
   ]
  },
  {
   "cell_type": "code",
   "execution_count": 98,
   "metadata": {},
   "outputs": [
    {
     "data": {
      "text/plain": [
       "0.28172904669025317"
      ]
     },
     "execution_count": 98,
     "metadata": {},
     "output_type": "execute_result"
    }
   ],
   "source": [
    "def sim_distance(perfs, p1, p2):\n",
    "    si = {}\n",
    "    for item in perfs[p1]:\n",
    "        if item in perfs[p2]:\n",
    "            si[item] = 1\n",
    "    if len(si) == 0: return 0\n",
    "    sum_of_squares = np.sum([pow(perfs[p1][item] - perfs[p2][item], 2) \n",
    "                             for item in perfs[p1] if item in perfs[p2]])\n",
    "    \n",
    "    return 1 / (1 + np.sqrt(sum_of_squares))\n",
    "sim_distance(critics, 'Claudia Puig', 'Gene Seymour')"
   ]
  },
  {
   "cell_type": "code",
   "execution_count": 100,
   "metadata": {},
   "outputs": [
    {
     "data": {
      "text/plain": [
       "3.0"
      ]
     },
     "execution_count": 100,
     "metadata": {},
     "output_type": "execute_result"
    }
   ],
   "source": [
    "train.loc['Claudia Puig']['Just My Luck']  # 访问某个元素"
   ]
  },
  {
   "cell_type": "markdown",
   "metadata": {},
   "source": [
    "除了用欧几里得距离，还可以使用皮尔逊相关系数来衡量相似度，在数据不是很规范的时候给出较好的结果。"
   ]
  },
  {
   "cell_type": "code",
   "execution_count": 124,
   "metadata": {},
   "outputs": [
    {
     "data": {
      "text/plain": [
       "<matplotlib.axes._subplots.AxesSubplot at 0x124fba5c0>"
      ]
     },
     "execution_count": 124,
     "metadata": {},
     "output_type": "execute_result"
    },
    {
     "data": {
      "image/png": "[encoded data removed]",
      "text/plain": [
       "<matplotlib.figure.Figure at 0x1240f1048>"
      ]
     },
     "metadata": {},
     "output_type": "display_data"
    }
   ],
   "source": [
    "pd.DataFrame(critics).plot.scatter(x='Mick LaSalle', y='Gene Seymour', xlim=(-1,6), ylim=(-1,6))"
   ]
  },
  {
   "cell_type": "markdown",
   "metadata": {},
   "source": [
    "如上图， 如果所有点能较好的拟合出一条直线，则表明两个用户之间的相似度越大。"
   ]
  },
  {
   "cell_type": "code",
   "execution_count": 125,
   "metadata": {},
   "outputs": [
    {
     "data": {
      "text/plain": [
       "<matplotlib.axes._subplots.AxesSubplot at 0x124fba320>"
      ]
     },
     "execution_count": 125,
     "metadata": {},
     "output_type": "execute_result"
    },
    {
     "data": {
      "image/png": "[encoded data removed]",
      "text/plain": [
       "<matplotlib.figure.Figure at 0x124fd44e0>"
      ]
     },
     "metadata": {},
     "output_type": "display_data"
    }
   ],
   "source": [
    "pd.DataFrame(critics).plot.scatter(x='Jack Matthews', y='Lisa Rose', xlim=(-1,6), ylim=(-1,6))"
   ]
  },
  {
   "cell_type": "markdown",
   "metadata": {},
   "source": [
    "下面两个用户之间更相似"
   ]
  },
  {
   "cell_type": "markdown",
   "metadata": {},
   "source": [
    "如上函数可以计算两个不同用户之间的相似程度。因此，可以根据上面数据构造用户相似矩阵。"
   ]
  },
  {
   "cell_type": "code",
   "execution_count": 127,
   "metadata": {},
   "outputs": [
    {
     "data": {
      "text/html": [
       "<div>\n",
       "<style scoped>\n",
       "    .dataframe tbody tr th:only-of-type {\n",
       "        vertical-align: middle;\n",
       "    }\n",
       "\n",
       "    .dataframe tbody tr th {\n",
       "        vertical-align: top;\n",
       "    }\n",
       "\n",
       "    .dataframe thead th {\n",
       "        text-align: right;\n",
       "    }\n",
       "</style>\n",
       "<table border=\"1\" class=\"dataframe\">\n",
       "  <thead>\n",
       "    <tr style=\"text-align: right;\">\n",
       "      <th></th>\n",
       "      <th>Claudia Puig</th>\n",
       "      <th>Gene Seymour</th>\n",
       "      <th>Jack Matthews</th>\n",
       "      <th>Lisa Rose</th>\n",
       "      <th>Michael Phillips</th>\n",
       "      <th>Mick LaSalle</th>\n",
       "      <th>Toby</th>\n",
       "    </tr>\n",
       "  </thead>\n",
       "  <tbody>\n",
       "    <tr>\n",
       "      <th>Claudia Puig</th>\n",
       "      <td>1.000000</td>\n",
       "      <td>0.281729</td>\n",
       "      <td>0.320377</td>\n",
       "      <td>0.387426</td>\n",
       "      <td>0.535898</td>\n",
       "      <td>0.314520</td>\n",
       "      <td>0.356789</td>\n",
       "    </tr>\n",
       "    <tr>\n",
       "      <th>Gene Seymour</th>\n",
       "      <td>0.281729</td>\n",
       "      <td>1.000000</td>\n",
       "      <td>0.666667</td>\n",
       "      <td>0.294298</td>\n",
       "      <td>0.340542</td>\n",
       "      <td>0.277926</td>\n",
       "      <td>0.258246</td>\n",
       "    </tr>\n",
       "    <tr>\n",
       "      <th>Jack Matthews</th>\n",
       "      <td>0.320377</td>\n",
       "      <td>0.666667</td>\n",
       "      <td>1.000000</td>\n",
       "      <td>0.340542</td>\n",
       "      <td>0.320377</td>\n",
       "      <td>0.285714</td>\n",
       "      <td>0.267479</td>\n",
       "    </tr>\n",
       "    <tr>\n",
       "      <th>Lisa Rose</th>\n",
       "      <td>0.387426</td>\n",
       "      <td>0.294298</td>\n",
       "      <td>0.340542</td>\n",
       "      <td>1.000000</td>\n",
       "      <td>0.472136</td>\n",
       "      <td>0.414214</td>\n",
       "      <td>0.348331</td>\n",
       "    </tr>\n",
       "    <tr>\n",
       "      <th>Michael Phillips</th>\n",
       "      <td>0.535898</td>\n",
       "      <td>0.340542</td>\n",
       "      <td>0.320377</td>\n",
       "      <td>0.472136</td>\n",
       "      <td>1.000000</td>\n",
       "      <td>0.387426</td>\n",
       "      <td>0.387426</td>\n",
       "    </tr>\n",
       "    <tr>\n",
       "      <th>Mick LaSalle</th>\n",
       "      <td>0.314520</td>\n",
       "      <td>0.277926</td>\n",
       "      <td>0.285714</td>\n",
       "      <td>0.414214</td>\n",
       "      <td>0.387426</td>\n",
       "      <td>1.000000</td>\n",
       "      <td>0.400000</td>\n",
       "    </tr>\n",
       "    <tr>\n",
       "      <th>Toby</th>\n",
       "      <td>0.356789</td>\n",
       "      <td>0.258246</td>\n",
       "      <td>0.267479</td>\n",
       "      <td>0.348331</td>\n",
       "      <td>0.387426</td>\n",
       "      <td>0.400000</td>\n",
       "      <td>1.000000</td>\n",
       "    </tr>\n",
       "  </tbody>\n",
       "</table>\n",
       "</div>"
      ],
      "text/plain": [
       "                  Claudia Puig  Gene Seymour  Jack Matthews  Lisa Rose  \\\n",
       "Claudia Puig          1.000000      0.281729       0.320377   0.387426   \n",
       "Gene Seymour          0.281729      1.000000       0.666667   0.294298   \n",
       "Jack Matthews         0.320377      0.666667       1.000000   0.340542   \n",
       "Lisa Rose             0.387426      0.294298       0.340542   1.000000   \n",
       "Michael Phillips      0.535898      0.340542       0.320377   0.472136   \n",
       "Mick LaSalle          0.314520      0.277926       0.285714   0.414214   \n",
       "Toby                  0.356789      0.258246       0.267479   0.348331   \n",
       "\n",
       "                  Michael Phillips  Mick LaSalle      Toby  \n",
       "Claudia Puig              0.535898      0.314520  0.356789  \n",
       "Gene Seymour              0.340542      0.277926  0.258246  \n",
       "Jack Matthews             0.320377      0.285714  0.267479  \n",
       "Lisa Rose                 0.472136      0.414214  0.348331  \n",
       "Michael Phillips          1.000000      0.387426  0.387426  \n",
       "Mick LaSalle              0.387426      1.000000  0.400000  \n",
       "Toby                      0.387426      0.400000  1.000000  "
      ]
     },
     "execution_count": 127,
     "metadata": {},
     "output_type": "execute_result"
    }
   ],
   "source": [
    "m, n = train.shape\n",
    "def person_sim():\n",
    "    sim = np.zeros([m, m], dtype=np.float32)\n",
    "    for i in range(m):\n",
    "        for j in range(m):\n",
    "            sim[i][j] = 1 / (1 + np.sqrt(np.sum(np.power(train.iloc[i] - train.iloc[j], 2))))\n",
    "    return pd.DataFrame(index=train.index, columns=train.index, data=sim)\n",
    "persion_sim()"
   ]
  },
  {
   "cell_type": "code",
   "execution_count": 113,
   "metadata": {},
   "outputs": [
    {
     "data": {
      "text/plain": [
       "0.28172904669025317"
      ]
     },
     "execution_count": 113,
     "metadata": {},
     "output_type": "execute_result"
    }
   ],
   "source": [
    "如上图计算得到用户之间的相似度矩阵，下面就可以根据这个矩阵去推荐电影。"
   ]
  },
  {
   "cell_type": "code",
   "execution_count": null,
   "metadata": {},
   "outputs": [],
   "source": []
  },
  {
   "cell_type": "code",
   "execution_count": null,
   "metadata": {},
   "outputs": [],
   "source": []
  }
 ],
 "metadata": {
  "kernelspec": {
   "display_name": "Python 3",
   "language": "python",
   "name": "python3"
  },
  "language_info": {
   "codemirror_mode": {
    "name": "ipython",
    "version": 3
   },
   "file_extension": ".py",
   "mimetype": "text/x-python",
   "name": "python",
   "nbconvert_exporter": "python",
   "pygments_lexer": "ipython3",
   "version": "3.6.4"
  }
 },
 "nbformat": 4,
 "nbformat_minor": 2
}
